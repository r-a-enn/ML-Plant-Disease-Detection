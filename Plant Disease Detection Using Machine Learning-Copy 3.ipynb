{
 "cells": [
  {
   "cell_type": "markdown",
   "metadata": {},
   "source": [
    "## Paper 1 Implementation: Plant Disease Detection Using Machine Learning"
   ]
  },
  {
   "cell_type": "code",
   "execution_count": 1,
   "metadata": {
    "id": "zwNCA2HzDVI7"
   },
   "outputs": [],
   "source": [
    "from sklearn.preprocessing import LabelEncoder\n",
    "from sklearn.preprocessing import MinMaxScaler\n",
    "import numpy as np\n",
    "import cv2\n",
    "import os\n",
    "import h5py\n",
    "import matplotlib.image as mpimg\n",
    "import matplotlib.pyplot as plt\n",
    "import pandas as pd\n",
    "from numpy.random import rand\n",
    "import mahotas"
   ]
  },
  {
   "cell_type": "code",
   "execution_count": 2,
   "metadata": {
    "id": "xGNRtBn_DVEZ"
   },
   "outputs": [],
   "source": [
    "images_per_class       = 250\n",
    "fixed_size             = tuple((500, 500))\n",
    "train_path             = 'dataset/train'\n",
    "h5_train_data          = 'dataset/output/train_data.h5'\n",
    "h5_train_labels        = 'dataset/output/train_labels.h5'\n",
    "bins                   = 8"
   ]
  },
  {
   "cell_type": "markdown",
   "metadata": {},
   "source": [
    "## Image Preprocessing"
   ]
  },
  {
   "cell_type": "code",
   "execution_count": 3,
   "metadata": {
    "id": "NCh9QG1tDVCa"
   },
   "outputs": [],
   "source": [
    "# Converting each image to RGB from BGR format\n",
    "\n",
    "def rgb_bgr(image):\n",
    "    rgb_img = cv2.cvtColor(image, cv2.COLOR_BGR2RGB)\n",
    "    return rgb_img"
   ]
  },
  {
   "cell_type": "code",
   "execution_count": 4,
   "metadata": {
    "id": "l8_-FeStDVAJ"
   },
   "outputs": [],
   "source": [
    "# Conversion to HSV image format from RGB\n",
    "\n",
    "def bgr_hsv(rgb_img):\n",
    "    hsv_img = cv2.cvtColor(rgb_img, cv2.COLOR_RGB2HSV)\n",
    "    return hsv_img"
   ]
  },
  {
   "cell_type": "code",
   "execution_count": 5,
   "metadata": {
    "id": "x1ltHr50DU92"
   },
   "outputs": [],
   "source": [
    "# Image Segmentation for Extraction of Green and Brown color\n",
    "\n",
    "\n",
    "def img_segmentation(rgb_img,hsv_img):\n",
    "    lower_green = np.array([25,0,20])\n",
    "    upper_green = np.array([100,255,255])\n",
    "    healthy_mask = cv2.inRange(hsv_img, lower_green, upper_green)\n",
    "    result = cv2.bitwise_and(rgb_img,rgb_img, mask=healthy_mask)\n",
    "    lower_brown = np.array([10,0,10])\n",
    "    upper_brown = np.array([30,255,255])\n",
    "    disease_mask = cv2.inRange(hsv_img, lower_brown, upper_brown)\n",
    "    disease_result = cv2.bitwise_and(rgb_img, rgb_img, mask=disease_mask)\n",
    "    final_mask = healthy_mask + disease_mask\n",
    "    final_result = cv2.bitwise_and(rgb_img, rgb_img, mask=final_mask)\n",
    "    return final_result"
   ]
  },
  {
   "cell_type": "markdown",
   "metadata": {},
   "source": [
    "## 3 types of feature descriptors"
   ]
  },
  {
   "cell_type": "code",
   "execution_count": 6,
   "metadata": {
    "id": "SenmV-NpE1UQ"
   },
   "outputs": [],
   "source": [
    "# feature-descriptor-1: Hu Moments\n",
    "def fd_hu_moments(image):\n",
    "    image = cv2.cvtColor(image, cv2.COLOR_BGR2GRAY)\n",
    "    feature = cv2.HuMoments(cv2.moments(image)).flatten()\n",
    "    return feature"
   ]
  },
  {
   "cell_type": "code",
   "execution_count": 7,
   "metadata": {
    "id": "YaYiIjq_E1SA"
   },
   "outputs": [],
   "source": [
    "# feature-descriptor-2: Haralick Texture\n",
    "def fd_haralick(image):\n",
    "    gray = cv2.cvtColor(image, cv2.COLOR_BGR2GRAY)\n",
    "    haralick = mahotas.features.haralick(gray).mean(axis=0)\n",
    "    return haralick"
   ]
  },
  {
   "cell_type": "code",
   "execution_count": 8,
   "metadata": {
    "id": "Dd2VOM1QE1Px"
   },
   "outputs": [],
   "source": [
    "# feature-descriptor-3: Color Histogram\n",
    "def fd_histogram(image, mask=None):\n",
    "    image = cv2.cvtColor(image, cv2.COLOR_BGR2HSV)\n",
    "    hist  = cv2.calcHist([image], [0, 1, 2], None, [bins, bins, bins], [0, 256, 0, 256, 0, 256])\n",
    "    cv2.normalize(hist, hist)\n",
    "    return hist.flatten()"
   ]
  },
  {
   "cell_type": "code",
   "execution_count": 9,
   "metadata": {
    "colab": {
     "base_uri": "https://localhost:8080/"
    },
    "id": "fZotsDdHE1NR",
    "outputId": "14fe231d-377f-4836-8a65-fe514d616ba8"
   },
   "outputs": [
    {
     "name": "stdout",
     "output_type": "stream",
     "text": [
      "['Apple___Apple_scab', 'Apple___Black_rot', 'Apple___Cedar_apple_rust', 'Apple___healthy']\n"
     ]
    }
   ],
   "source": [
    "# get the training labels\n",
    "train_labels = os.listdir(train_path)\n",
    "\n",
    "# sort the training labels\n",
    "train_labels.sort()\n",
    "print(train_labels)\n",
    "\n",
    "# empty lists to hold feature vectors and labels\n",
    "global_features = []\n",
    "labels          = []"
   ]
  },
  {
   "cell_type": "markdown",
   "metadata": {},
   "source": [
    "## Leaf Examples : Diseased Image Preprocessing Steps Visualized"
   ]
  },
  {
   "cell_type": "code",
   "execution_count": 10,
   "metadata": {
    "colab": {
     "base_uri": "https://localhost:8080/",
     "height": 298
    },
    "id": "VSXLwo7ySqhq",
    "outputId": "a1263775-4a02-44f7-884b-33a9092cdfa6"
   },
   "outputs": [
    {
     "ename": "FileNotFoundError",
     "evalue": "[Errno 2] No such file or directory: 'dataset/train/diseased/image (1).jpg'",
     "output_type": "error",
     "traceback": [
      "\u001b[1;31m---------------------------------------------------------------------------\u001b[0m",
      "\u001b[1;31mFileNotFoundError\u001b[0m                         Traceback (most recent call last)",
      "\u001b[1;32m~\\AppData\\Local\\Temp/ipykernel_7180/746675596.py\u001b[0m in \u001b[0;36m<module>\u001b[1;34m\u001b[0m\n\u001b[0;32m      1\u001b[0m \u001b[1;31m#Diseased leaf Image\u001b[0m\u001b[1;33m\u001b[0m\u001b[1;33m\u001b[0m\u001b[1;33m\u001b[0m\u001b[0m\n\u001b[0;32m      2\u001b[0m \u001b[1;31m#image_diseased = mpimg.imread(\"dataset/train/diseased/3.jpg\")\u001b[0m\u001b[1;33m\u001b[0m\u001b[1;33m\u001b[0m\u001b[1;33m\u001b[0m\u001b[0m\n\u001b[1;32m----> 3\u001b[1;33m \u001b[0mimage_diseased\u001b[0m \u001b[1;33m=\u001b[0m \u001b[0mmpimg\u001b[0m\u001b[1;33m.\u001b[0m\u001b[0mimread\u001b[0m\u001b[1;33m(\u001b[0m\u001b[1;34m\"dataset/train/diseased/image (1).jpg\"\u001b[0m\u001b[1;33m)\u001b[0m\u001b[1;33m\u001b[0m\u001b[1;33m\u001b[0m\u001b[0m\n\u001b[0m\u001b[0;32m      4\u001b[0m \u001b[0mplt\u001b[0m\u001b[1;33m.\u001b[0m\u001b[0mtitle\u001b[0m\u001b[1;33m(\u001b[0m\u001b[1;34m\"Diseased Leaf Example\"\u001b[0m\u001b[1;33m)\u001b[0m\u001b[1;33m\u001b[0m\u001b[1;33m\u001b[0m\u001b[0m\n\u001b[0;32m      5\u001b[0m \u001b[0mplt\u001b[0m\u001b[1;33m.\u001b[0m\u001b[0mimshow\u001b[0m\u001b[1;33m(\u001b[0m\u001b[0mimage_diseased\u001b[0m\u001b[1;33m)\u001b[0m\u001b[1;33m\u001b[0m\u001b[1;33m\u001b[0m\u001b[0m\n",
      "\u001b[1;32mc:\\python38\\lib\\site-packages\\matplotlib\\image.py\u001b[0m in \u001b[0;36mimread\u001b[1;34m(fname, format)\u001b[0m\n\u001b[0;32m   1499\u001b[0m                     \u001b[0mresponse\u001b[0m \u001b[1;33m=\u001b[0m \u001b[0mio\u001b[0m\u001b[1;33m.\u001b[0m\u001b[0mBytesIO\u001b[0m\u001b[1;33m(\u001b[0m\u001b[0mresponse\u001b[0m\u001b[1;33m.\u001b[0m\u001b[0mread\u001b[0m\u001b[1;33m(\u001b[0m\u001b[1;33m)\u001b[0m\u001b[1;33m)\u001b[0m\u001b[1;33m\u001b[0m\u001b[1;33m\u001b[0m\u001b[0m\n\u001b[0;32m   1500\u001b[0m                 \u001b[1;32mreturn\u001b[0m \u001b[0mimread\u001b[0m\u001b[1;33m(\u001b[0m\u001b[0mresponse\u001b[0m\u001b[1;33m,\u001b[0m \u001b[0mformat\u001b[0m\u001b[1;33m=\u001b[0m\u001b[0mext\u001b[0m\u001b[1;33m)\u001b[0m\u001b[1;33m\u001b[0m\u001b[1;33m\u001b[0m\u001b[0m\n\u001b[1;32m-> 1501\u001b[1;33m     \u001b[1;32mwith\u001b[0m \u001b[0mimg_open\u001b[0m\u001b[1;33m(\u001b[0m\u001b[0mfname\u001b[0m\u001b[1;33m)\u001b[0m \u001b[1;32mas\u001b[0m \u001b[0mimage\u001b[0m\u001b[1;33m:\u001b[0m\u001b[1;33m\u001b[0m\u001b[1;33m\u001b[0m\u001b[0m\n\u001b[0m\u001b[0;32m   1502\u001b[0m         return (_pil_png_to_float_array(image)\n\u001b[0;32m   1503\u001b[0m                 \u001b[1;32mif\u001b[0m \u001b[0misinstance\u001b[0m\u001b[1;33m(\u001b[0m\u001b[0mimage\u001b[0m\u001b[1;33m,\u001b[0m \u001b[0mPIL\u001b[0m\u001b[1;33m.\u001b[0m\u001b[0mPngImagePlugin\u001b[0m\u001b[1;33m.\u001b[0m\u001b[0mPngImageFile\u001b[0m\u001b[1;33m)\u001b[0m \u001b[1;32melse\u001b[0m\u001b[1;33m\u001b[0m\u001b[1;33m\u001b[0m\u001b[0m\n",
      "\u001b[1;32mc:\\python38\\lib\\site-packages\\PIL\\Image.py\u001b[0m in \u001b[0;36mopen\u001b[1;34m(fp, mode, formats)\u001b[0m\n\u001b[0;32m   2973\u001b[0m \u001b[1;33m\u001b[0m\u001b[0m\n\u001b[0;32m   2974\u001b[0m     \u001b[1;32mif\u001b[0m \u001b[0mfilename\u001b[0m\u001b[1;33m:\u001b[0m\u001b[1;33m\u001b[0m\u001b[1;33m\u001b[0m\u001b[0m\n\u001b[1;32m-> 2975\u001b[1;33m         \u001b[0mfp\u001b[0m \u001b[1;33m=\u001b[0m \u001b[0mbuiltins\u001b[0m\u001b[1;33m.\u001b[0m\u001b[0mopen\u001b[0m\u001b[1;33m(\u001b[0m\u001b[0mfilename\u001b[0m\u001b[1;33m,\u001b[0m \u001b[1;34m\"rb\"\u001b[0m\u001b[1;33m)\u001b[0m\u001b[1;33m\u001b[0m\u001b[1;33m\u001b[0m\u001b[0m\n\u001b[0m\u001b[0;32m   2976\u001b[0m         \u001b[0mexclusive_fp\u001b[0m \u001b[1;33m=\u001b[0m \u001b[1;32mTrue\u001b[0m\u001b[1;33m\u001b[0m\u001b[1;33m\u001b[0m\u001b[0m\n\u001b[0;32m   2977\u001b[0m \u001b[1;33m\u001b[0m\u001b[0m\n",
      "\u001b[1;31mFileNotFoundError\u001b[0m: [Errno 2] No such file or directory: 'dataset/train/diseased/image (1).jpg'"
     ]
    }
   ],
   "source": [
    "#Diseased leaf Image \n",
    "#image_diseased = mpimg.imread(\"dataset/train/diseased/3.jpg\")\n",
    "image_diseased = mpimg.imread(\"dataset/train/diseased/image (1).jpg\")\n",
    "plt.title(\"Diseased Leaf Example\")\n",
    "plt.imshow(image_diseased)\n"
   ]
  },
  {
   "cell_type": "code",
   "execution_count": 11,
   "metadata": {},
   "outputs": [
    {
     "ename": "FileNotFoundError",
     "evalue": "[Errno 2] No such file or directory: 'dataset/train/diseased/image (3).jpg'",
     "output_type": "error",
     "traceback": [
      "\u001b[1;31m---------------------------------------------------------------------------\u001b[0m",
      "\u001b[1;31mFileNotFoundError\u001b[0m                         Traceback (most recent call last)",
      "\u001b[1;32m~\\AppData\\Local\\Temp/ipykernel_7180/667431159.py\u001b[0m in \u001b[0;36m<module>\u001b[1;34m\u001b[0m\n\u001b[0;32m      3\u001b[0m \u001b[1;33m\u001b[0m\u001b[0m\n\u001b[0;32m      4\u001b[0m \u001b[0mpath\u001b[0m \u001b[1;33m=\u001b[0m \u001b[1;34m'dataset/train/diseased/image (3).jpg'\u001b[0m\u001b[1;33m\u001b[0m\u001b[1;33m\u001b[0m\u001b[0m\n\u001b[1;32m----> 5\u001b[1;33m \u001b[0mimage\u001b[0m \u001b[1;33m=\u001b[0m \u001b[0mmpimg\u001b[0m\u001b[1;33m.\u001b[0m\u001b[0mimread\u001b[0m\u001b[1;33m(\u001b[0m\u001b[0mpath\u001b[0m\u001b[1;33m)\u001b[0m\u001b[1;33m\u001b[0m\u001b[1;33m\u001b[0m\u001b[0m\n\u001b[0m\u001b[0;32m      6\u001b[0m \u001b[0mfixedsizeimage\u001b[0m \u001b[1;33m=\u001b[0m \u001b[0mcv2\u001b[0m\u001b[1;33m.\u001b[0m\u001b[0mresize\u001b[0m\u001b[1;33m(\u001b[0m\u001b[0mimage\u001b[0m\u001b[1;33m,\u001b[0m \u001b[0mfixed_size\u001b[0m\u001b[1;33m)\u001b[0m\u001b[1;33m\u001b[0m\u001b[1;33m\u001b[0m\u001b[0m\n\u001b[0;32m      7\u001b[0m \u001b[1;33m\u001b[0m\u001b[0m\n",
      "\u001b[1;32mc:\\python38\\lib\\site-packages\\matplotlib\\image.py\u001b[0m in \u001b[0;36mimread\u001b[1;34m(fname, format)\u001b[0m\n\u001b[0;32m   1499\u001b[0m                     \u001b[0mresponse\u001b[0m \u001b[1;33m=\u001b[0m \u001b[0mio\u001b[0m\u001b[1;33m.\u001b[0m\u001b[0mBytesIO\u001b[0m\u001b[1;33m(\u001b[0m\u001b[0mresponse\u001b[0m\u001b[1;33m.\u001b[0m\u001b[0mread\u001b[0m\u001b[1;33m(\u001b[0m\u001b[1;33m)\u001b[0m\u001b[1;33m)\u001b[0m\u001b[1;33m\u001b[0m\u001b[1;33m\u001b[0m\u001b[0m\n\u001b[0;32m   1500\u001b[0m                 \u001b[1;32mreturn\u001b[0m \u001b[0mimread\u001b[0m\u001b[1;33m(\u001b[0m\u001b[0mresponse\u001b[0m\u001b[1;33m,\u001b[0m \u001b[0mformat\u001b[0m\u001b[1;33m=\u001b[0m\u001b[0mext\u001b[0m\u001b[1;33m)\u001b[0m\u001b[1;33m\u001b[0m\u001b[1;33m\u001b[0m\u001b[0m\n\u001b[1;32m-> 1501\u001b[1;33m     \u001b[1;32mwith\u001b[0m \u001b[0mimg_open\u001b[0m\u001b[1;33m(\u001b[0m\u001b[0mfname\u001b[0m\u001b[1;33m)\u001b[0m \u001b[1;32mas\u001b[0m \u001b[0mimage\u001b[0m\u001b[1;33m:\u001b[0m\u001b[1;33m\u001b[0m\u001b[1;33m\u001b[0m\u001b[0m\n\u001b[0m\u001b[0;32m   1502\u001b[0m         return (_pil_png_to_float_array(image)\n\u001b[0;32m   1503\u001b[0m                 \u001b[1;32mif\u001b[0m \u001b[0misinstance\u001b[0m\u001b[1;33m(\u001b[0m\u001b[0mimage\u001b[0m\u001b[1;33m,\u001b[0m \u001b[0mPIL\u001b[0m\u001b[1;33m.\u001b[0m\u001b[0mPngImagePlugin\u001b[0m\u001b[1;33m.\u001b[0m\u001b[0mPngImageFile\u001b[0m\u001b[1;33m)\u001b[0m \u001b[1;32melse\u001b[0m\u001b[1;33m\u001b[0m\u001b[1;33m\u001b[0m\u001b[0m\n",
      "\u001b[1;32mc:\\python38\\lib\\site-packages\\PIL\\Image.py\u001b[0m in \u001b[0;36mopen\u001b[1;34m(fp, mode, formats)\u001b[0m\n\u001b[0;32m   2973\u001b[0m \u001b[1;33m\u001b[0m\u001b[0m\n\u001b[0;32m   2974\u001b[0m     \u001b[1;32mif\u001b[0m \u001b[0mfilename\u001b[0m\u001b[1;33m:\u001b[0m\u001b[1;33m\u001b[0m\u001b[1;33m\u001b[0m\u001b[0m\n\u001b[1;32m-> 2975\u001b[1;33m         \u001b[0mfp\u001b[0m \u001b[1;33m=\u001b[0m \u001b[0mbuiltins\u001b[0m\u001b[1;33m.\u001b[0m\u001b[0mopen\u001b[0m\u001b[1;33m(\u001b[0m\u001b[0mfilename\u001b[0m\u001b[1;33m,\u001b[0m \u001b[1;34m\"rb\"\u001b[0m\u001b[1;33m)\u001b[0m\u001b[1;33m\u001b[0m\u001b[1;33m\u001b[0m\u001b[0m\n\u001b[0m\u001b[0;32m   2976\u001b[0m         \u001b[0mexclusive_fp\u001b[0m \u001b[1;33m=\u001b[0m \u001b[1;32mTrue\u001b[0m\u001b[1;33m\u001b[0m\u001b[1;33m\u001b[0m\u001b[0m\n\u001b[0;32m   2977\u001b[0m \u001b[1;33m\u001b[0m\u001b[0m\n",
      "\u001b[1;31mFileNotFoundError\u001b[0m: [Errno 2] No such file or directory: 'dataset/train/diseased/image (3).jpg'"
     ]
    }
   ],
   "source": [
    "##Fixed Size Image\n",
    "#path = 'dataset/train/diseased/8.jpg'\n",
    "\n",
    "path = 'dataset/train/diseased/image (3).jpg'\n",
    "image = mpimg.imread(path)\n",
    "fixedsizeimage = cv2.resize(image, fixed_size)\n",
    "\n",
    "plt.imshow(fixedsizeimage)\n",
    "\n"
   ]
  },
  {
   "cell_type": "code",
   "execution_count": 12,
   "metadata": {},
   "outputs": [
    {
     "ename": "NameError",
     "evalue": "name 'fixedsizeimage' is not defined",
     "output_type": "error",
     "traceback": [
      "\u001b[1;31m---------------------------------------------------------------------------\u001b[0m",
      "\u001b[1;31mNameError\u001b[0m                                 Traceback (most recent call last)",
      "\u001b[1;32m~\\AppData\\Local\\Temp/ipykernel_7180/4095648624.py\u001b[0m in \u001b[0;36m<module>\u001b[1;34m\u001b[0m\n\u001b[0;32m      1\u001b[0m \u001b[1;31m#RGB-BGR Conversion\u001b[0m\u001b[1;33m\u001b[0m\u001b[1;33m\u001b[0m\u001b[1;33m\u001b[0m\u001b[0m\n\u001b[0;32m      2\u001b[0m \u001b[1;33m\u001b[0m\u001b[0m\n\u001b[1;32m----> 3\u001b[1;33m \u001b[0mrgbbgr\u001b[0m\u001b[1;33m=\u001b[0m\u001b[0mrgb_bgr\u001b[0m\u001b[1;33m(\u001b[0m\u001b[0mfixedsizeimage\u001b[0m\u001b[1;33m)\u001b[0m\u001b[1;33m\u001b[0m\u001b[1;33m\u001b[0m\u001b[0m\n\u001b[0m\u001b[0;32m      4\u001b[0m \u001b[1;33m\u001b[0m\u001b[0m\n\u001b[0;32m      5\u001b[0m \u001b[0mplt\u001b[0m\u001b[1;33m.\u001b[0m\u001b[0mimshow\u001b[0m\u001b[1;33m(\u001b[0m\u001b[0mrgbbgr\u001b[0m\u001b[1;33m)\u001b[0m\u001b[1;33m\u001b[0m\u001b[1;33m\u001b[0m\u001b[0m\n",
      "\u001b[1;31mNameError\u001b[0m: name 'fixedsizeimage' is not defined"
     ]
    }
   ],
   "source": [
    "#RGB-BGR Conversion\n",
    "\n",
    "rgbbgr=rgb_bgr(fixedsizeimage)\n",
    "\n",
    "plt.imshow(rgbbgr)\n"
   ]
  },
  {
   "cell_type": "code",
   "execution_count": 13,
   "metadata": {},
   "outputs": [
    {
     "ename": "NameError",
     "evalue": "name 'rgbbgr' is not defined",
     "output_type": "error",
     "traceback": [
      "\u001b[1;31m---------------------------------------------------------------------------\u001b[0m",
      "\u001b[1;31mNameError\u001b[0m                                 Traceback (most recent call last)",
      "\u001b[1;32m~\\AppData\\Local\\Temp/ipykernel_7180/1553611893.py\u001b[0m in \u001b[0;36m<module>\u001b[1;34m\u001b[0m\n\u001b[0;32m      1\u001b[0m \u001b[1;31m#BGR-HSV Conversion\u001b[0m\u001b[1;33m\u001b[0m\u001b[1;33m\u001b[0m\u001b[1;33m\u001b[0m\u001b[0m\n\u001b[0;32m      2\u001b[0m \u001b[1;33m\u001b[0m\u001b[0m\n\u001b[1;32m----> 3\u001b[1;33m \u001b[0mbgrhsv\u001b[0m\u001b[1;33m=\u001b[0m\u001b[0mbgr_hsv\u001b[0m\u001b[1;33m(\u001b[0m\u001b[0mrgbbgr\u001b[0m\u001b[1;33m)\u001b[0m\u001b[1;33m\u001b[0m\u001b[1;33m\u001b[0m\u001b[0m\n\u001b[0m\u001b[0;32m      4\u001b[0m \u001b[0mplt\u001b[0m\u001b[1;33m.\u001b[0m\u001b[0mimshow\u001b[0m\u001b[1;33m(\u001b[0m\u001b[0mbgrhsv\u001b[0m\u001b[1;33m)\u001b[0m\u001b[1;33m\u001b[0m\u001b[1;33m\u001b[0m\u001b[0m\n",
      "\u001b[1;31mNameError\u001b[0m: name 'rgbbgr' is not defined"
     ]
    }
   ],
   "source": [
    "#BGR-HSV Conversion\n",
    "\n",
    "bgrhsv=bgr_hsv(rgbbgr)\n",
    "plt.imshow(bgrhsv)\n"
   ]
  },
  {
   "cell_type": "code",
   "execution_count": 14,
   "metadata": {},
   "outputs": [
    {
     "ename": "NameError",
     "evalue": "name 'rgbbgr' is not defined",
     "output_type": "error",
     "traceback": [
      "\u001b[1;31m---------------------------------------------------------------------------\u001b[0m",
      "\u001b[1;31mNameError\u001b[0m                                 Traceback (most recent call last)",
      "\u001b[1;32m~\\AppData\\Local\\Temp/ipykernel_7180/2929343741.py\u001b[0m in \u001b[0;36m<module>\u001b[1;34m\u001b[0m\n\u001b[0;32m      1\u001b[0m \u001b[1;31m#Image Segmentation\u001b[0m\u001b[1;33m\u001b[0m\u001b[1;33m\u001b[0m\u001b[1;33m\u001b[0m\u001b[0m\n\u001b[0;32m      2\u001b[0m \u001b[1;33m\u001b[0m\u001b[0m\n\u001b[1;32m----> 3\u001b[1;33m \u001b[0msegmentedimage\u001b[0m\u001b[1;33m=\u001b[0m\u001b[0mimg_segmentation\u001b[0m\u001b[1;33m(\u001b[0m\u001b[0mrgbbgr\u001b[0m\u001b[1;33m,\u001b[0m\u001b[0mbgrhsv\u001b[0m\u001b[1;33m)\u001b[0m\u001b[1;33m\u001b[0m\u001b[1;33m\u001b[0m\u001b[0m\n\u001b[0m\u001b[0;32m      4\u001b[0m \u001b[0mplt\u001b[0m\u001b[1;33m.\u001b[0m\u001b[0mimshow\u001b[0m\u001b[1;33m(\u001b[0m\u001b[0msegmentedimage\u001b[0m\u001b[1;33m)\u001b[0m\u001b[1;33m\u001b[0m\u001b[1;33m\u001b[0m\u001b[0m\n",
      "\u001b[1;31mNameError\u001b[0m: name 'rgbbgr' is not defined"
     ]
    }
   ],
   "source": [
    "#Image Segmentation\n",
    "\n",
    "segmentedimage=img_segmentation(rgbbgr,bgrhsv)\n",
    "plt.imshow(segmentedimage)\n"
   ]
  },
  {
   "cell_type": "markdown",
   "metadata": {},
   "source": [
    "## Color Histogram"
   ]
  },
  {
   "cell_type": "code",
   "execution_count": 15,
   "metadata": {},
   "outputs": [
    {
     "ename": "FileNotFoundError",
     "evalue": "[Errno 2] No such file or directory: 'dataset/train/healthy/image (1).jpg'",
     "output_type": "error",
     "traceback": [
      "\u001b[1;31m---------------------------------------------------------------------------\u001b[0m",
      "\u001b[1;31mFileNotFoundError\u001b[0m                         Traceback (most recent call last)",
      "\u001b[1;32m~\\AppData\\Local\\Temp/ipykernel_7180/167801692.py\u001b[0m in \u001b[0;36m<module>\u001b[1;34m\u001b[0m\n\u001b[0;32m      3\u001b[0m \u001b[1;31m#path_ = 'dataset/train/diseased/683.jpg'\u001b[0m\u001b[1;33m\u001b[0m\u001b[1;33m\u001b[0m\u001b[1;33m\u001b[0m\u001b[0m\n\u001b[0;32m      4\u001b[0m \u001b[0mplt\u001b[0m\u001b[1;33m.\u001b[0m\u001b[0mtitle\u001b[0m\u001b[1;33m(\u001b[0m\u001b[0mpath_\u001b[0m\u001b[1;33m)\u001b[0m\u001b[1;33m\u001b[0m\u001b[1;33m\u001b[0m\u001b[0m\n\u001b[1;32m----> 5\u001b[1;33m \u001b[0mimage_\u001b[0m \u001b[1;33m=\u001b[0m \u001b[0mmpimg\u001b[0m\u001b[1;33m.\u001b[0m\u001b[0mimread\u001b[0m\u001b[1;33m(\u001b[0m\u001b[0mpath_\u001b[0m\u001b[1;33m)\u001b[0m\u001b[1;33m\u001b[0m\u001b[1;33m\u001b[0m\u001b[0m\n\u001b[0m\u001b[0;32m      6\u001b[0m \u001b[1;33m\u001b[0m\u001b[0m\n\u001b[0;32m      7\u001b[0m \u001b[0mplt\u001b[0m\u001b[1;33m.\u001b[0m\u001b[0mimshow\u001b[0m\u001b[1;33m(\u001b[0m\u001b[0mimage_\u001b[0m\u001b[1;33m)\u001b[0m\u001b[1;33m\u001b[0m\u001b[1;33m\u001b[0m\u001b[0m\n",
      "\u001b[1;32mc:\\python38\\lib\\site-packages\\matplotlib\\image.py\u001b[0m in \u001b[0;36mimread\u001b[1;34m(fname, format)\u001b[0m\n\u001b[0;32m   1499\u001b[0m                     \u001b[0mresponse\u001b[0m \u001b[1;33m=\u001b[0m \u001b[0mio\u001b[0m\u001b[1;33m.\u001b[0m\u001b[0mBytesIO\u001b[0m\u001b[1;33m(\u001b[0m\u001b[0mresponse\u001b[0m\u001b[1;33m.\u001b[0m\u001b[0mread\u001b[0m\u001b[1;33m(\u001b[0m\u001b[1;33m)\u001b[0m\u001b[1;33m)\u001b[0m\u001b[1;33m\u001b[0m\u001b[1;33m\u001b[0m\u001b[0m\n\u001b[0;32m   1500\u001b[0m                 \u001b[1;32mreturn\u001b[0m \u001b[0mimread\u001b[0m\u001b[1;33m(\u001b[0m\u001b[0mresponse\u001b[0m\u001b[1;33m,\u001b[0m \u001b[0mformat\u001b[0m\u001b[1;33m=\u001b[0m\u001b[0mext\u001b[0m\u001b[1;33m)\u001b[0m\u001b[1;33m\u001b[0m\u001b[1;33m\u001b[0m\u001b[0m\n\u001b[1;32m-> 1501\u001b[1;33m     \u001b[1;32mwith\u001b[0m \u001b[0mimg_open\u001b[0m\u001b[1;33m(\u001b[0m\u001b[0mfname\u001b[0m\u001b[1;33m)\u001b[0m \u001b[1;32mas\u001b[0m \u001b[0mimage\u001b[0m\u001b[1;33m:\u001b[0m\u001b[1;33m\u001b[0m\u001b[1;33m\u001b[0m\u001b[0m\n\u001b[0m\u001b[0;32m   1502\u001b[0m         return (_pil_png_to_float_array(image)\n\u001b[0;32m   1503\u001b[0m                 \u001b[1;32mif\u001b[0m \u001b[0misinstance\u001b[0m\u001b[1;33m(\u001b[0m\u001b[0mimage\u001b[0m\u001b[1;33m,\u001b[0m \u001b[0mPIL\u001b[0m\u001b[1;33m.\u001b[0m\u001b[0mPngImagePlugin\u001b[0m\u001b[1;33m.\u001b[0m\u001b[0mPngImageFile\u001b[0m\u001b[1;33m)\u001b[0m \u001b[1;32melse\u001b[0m\u001b[1;33m\u001b[0m\u001b[1;33m\u001b[0m\u001b[0m\n",
      "\u001b[1;32mc:\\python38\\lib\\site-packages\\PIL\\Image.py\u001b[0m in \u001b[0;36mopen\u001b[1;34m(fp, mode, formats)\u001b[0m\n\u001b[0;32m   2973\u001b[0m \u001b[1;33m\u001b[0m\u001b[0m\n\u001b[0;32m   2974\u001b[0m     \u001b[1;32mif\u001b[0m \u001b[0mfilename\u001b[0m\u001b[1;33m:\u001b[0m\u001b[1;33m\u001b[0m\u001b[1;33m\u001b[0m\u001b[0m\n\u001b[1;32m-> 2975\u001b[1;33m         \u001b[0mfp\u001b[0m \u001b[1;33m=\u001b[0m \u001b[0mbuiltins\u001b[0m\u001b[1;33m.\u001b[0m\u001b[0mopen\u001b[0m\u001b[1;33m(\u001b[0m\u001b[0mfilename\u001b[0m\u001b[1;33m,\u001b[0m \u001b[1;34m\"rb\"\u001b[0m\u001b[1;33m)\u001b[0m\u001b[1;33m\u001b[0m\u001b[1;33m\u001b[0m\u001b[0m\n\u001b[0m\u001b[0;32m   2976\u001b[0m         \u001b[0mexclusive_fp\u001b[0m \u001b[1;33m=\u001b[0m \u001b[1;32mTrue\u001b[0m\u001b[1;33m\u001b[0m\u001b[1;33m\u001b[0m\u001b[0m\n\u001b[0;32m   2977\u001b[0m \u001b[1;33m\u001b[0m\u001b[0m\n",
      "\u001b[1;31mFileNotFoundError\u001b[0m: [Errno 2] No such file or directory: 'dataset/train/healthy/image (1).jpg'"
     ]
    },
    {
     "data": {
      "image/png": "[encoded data removed]",
      "text/plain": [
       "<Figure size 432x288 with 1 Axes>"
      ]
     },
     "metadata": {
      "needs_background": "light"
     },
     "output_type": "display_data"
    }
   ],
   "source": [
    "#fv_histogram  = fd_histogram(segmentedimage)\n",
    "path_ = 'dataset/train/healthy/image (1).jpg'\n",
    "#path_ = 'dataset/train/diseased/683.jpg'\n",
    "plt.title(path_)\n",
    "image_ = mpimg.imread(path_)\n",
    "\n",
    "plt.imshow(image_)\n",
    "\n",
    "colors=['r', 'g', 'b']\n",
    "\n",
    "# split the image into its respective channels, then initialize the\n",
    "chans = cv2.split(image_)\n",
    "\n",
    "plt.figure()\n",
    "plt.title(\"'Flattened' Color Histogram\")\n",
    "plt.xlabel(\"Bins\")\n",
    "plt.ylabel(\"# of Pixels\")\n",
    "# loop over the image channels\n",
    "for (chan, color) in zip(chans, colors):\n",
    "\t# create a histogram for the current channel and plot it\n",
    "\thist = cv2.calcHist([chan], [0], None, [256], [0, 256])\n",
    "\tplt.plot(hist, color=color)\n",
    "\tplt.xlim([0, 256])\n",
    "\n"
   ]
  },
  {
   "cell_type": "code",
   "execution_count": 16,
   "metadata": {
    "colab": {
     "base_uri": "https://localhost:8080/",
     "height": 298
    },
    "id": "whMRU8hTUnbL",
    "outputId": "79db429a-1163-4d0b-d5c2-d18736fb2e3a"
   },
   "outputs": [
    {
     "ename": "FileNotFoundError",
     "evalue": "[Errno 2] No such file or directory: 'dataset/train/healthy/image (1).jpg'",
     "output_type": "error",
     "traceback": [
      "\u001b[1;31m---------------------------------------------------------------------------\u001b[0m",
      "\u001b[1;31mFileNotFoundError\u001b[0m                         Traceback (most recent call last)",
      "\u001b[1;32m~\\AppData\\Local\\Temp/ipykernel_7180/120953018.py\u001b[0m in \u001b[0;36m<module>\u001b[1;34m\u001b[0m\n\u001b[0;32m      1\u001b[0m \u001b[1;31m#Healthy Leaf Image\u001b[0m\u001b[1;33m\u001b[0m\u001b[1;33m\u001b[0m\u001b[1;33m\u001b[0m\u001b[0m\n\u001b[1;32m----> 2\u001b[1;33m \u001b[0mimage_healthy\u001b[0m \u001b[1;33m=\u001b[0m \u001b[0mmpimg\u001b[0m\u001b[1;33m.\u001b[0m\u001b[0mimread\u001b[0m\u001b[1;33m(\u001b[0m\u001b[1;34m\"dataset/train/healthy/image (1).jpg\"\u001b[0m\u001b[1;33m)\u001b[0m\u001b[1;33m\u001b[0m\u001b[1;33m\u001b[0m\u001b[0m\n\u001b[0m\u001b[0;32m      3\u001b[0m \u001b[0mplt\u001b[0m\u001b[1;33m.\u001b[0m\u001b[0mtitle\u001b[0m\u001b[1;33m(\u001b[0m\u001b[1;34m\"Healthy Leaf Example\"\u001b[0m\u001b[1;33m)\u001b[0m\u001b[1;33m\u001b[0m\u001b[1;33m\u001b[0m\u001b[0m\n\u001b[0;32m      4\u001b[0m \u001b[0mplt\u001b[0m\u001b[1;33m.\u001b[0m\u001b[0mimshow\u001b[0m\u001b[1;33m(\u001b[0m\u001b[0mimage_healthy\u001b[0m\u001b[1;33m)\u001b[0m\u001b[1;33m\u001b[0m\u001b[1;33m\u001b[0m\u001b[0m\n",
      "\u001b[1;32mc:\\python38\\lib\\site-packages\\matplotlib\\image.py\u001b[0m in \u001b[0;36mimread\u001b[1;34m(fname, format)\u001b[0m\n\u001b[0;32m   1499\u001b[0m                     \u001b[0mresponse\u001b[0m \u001b[1;33m=\u001b[0m \u001b[0mio\u001b[0m\u001b[1;33m.\u001b[0m\u001b[0mBytesIO\u001b[0m\u001b[1;33m(\u001b[0m\u001b[0mresponse\u001b[0m\u001b[1;33m.\u001b[0m\u001b[0mread\u001b[0m\u001b[1;33m(\u001b[0m\u001b[1;33m)\u001b[0m\u001b[1;33m)\u001b[0m\u001b[1;33m\u001b[0m\u001b[1;33m\u001b[0m\u001b[0m\n\u001b[0;32m   1500\u001b[0m                 \u001b[1;32mreturn\u001b[0m \u001b[0mimread\u001b[0m\u001b[1;33m(\u001b[0m\u001b[0mresponse\u001b[0m\u001b[1;33m,\u001b[0m \u001b[0mformat\u001b[0m\u001b[1;33m=\u001b[0m\u001b[0mext\u001b[0m\u001b[1;33m)\u001b[0m\u001b[1;33m\u001b[0m\u001b[1;33m\u001b[0m\u001b[0m\n\u001b[1;32m-> 1501\u001b[1;33m     \u001b[1;32mwith\u001b[0m \u001b[0mimg_open\u001b[0m\u001b[1;33m(\u001b[0m\u001b[0mfname\u001b[0m\u001b[1;33m)\u001b[0m \u001b[1;32mas\u001b[0m \u001b[0mimage\u001b[0m\u001b[1;33m:\u001b[0m\u001b[1;33m\u001b[0m\u001b[1;33m\u001b[0m\u001b[0m\n\u001b[0m\u001b[0;32m   1502\u001b[0m         return (_pil_png_to_float_array(image)\n\u001b[0;32m   1503\u001b[0m                 \u001b[1;32mif\u001b[0m \u001b[0misinstance\u001b[0m\u001b[1;33m(\u001b[0m\u001b[0mimage\u001b[0m\u001b[1;33m,\u001b[0m \u001b[0mPIL\u001b[0m\u001b[1;33m.\u001b[0m\u001b[0mPngImagePlugin\u001b[0m\u001b[1;33m.\u001b[0m\u001b[0mPngImageFile\u001b[0m\u001b[1;33m)\u001b[0m \u001b[1;32melse\u001b[0m\u001b[1;33m\u001b[0m\u001b[1;33m\u001b[0m\u001b[0m\n",
      "\u001b[1;32mc:\\python38\\lib\\site-packages\\PIL\\Image.py\u001b[0m in \u001b[0;36mopen\u001b[1;34m(fp, mode, formats)\u001b[0m\n\u001b[0;32m   2973\u001b[0m \u001b[1;33m\u001b[0m\u001b[0m\n\u001b[0;32m   2974\u001b[0m     \u001b[1;32mif\u001b[0m \u001b[0mfilename\u001b[0m\u001b[1;33m:\u001b[0m\u001b[1;33m\u001b[0m\u001b[1;33m\u001b[0m\u001b[0m\n\u001b[1;32m-> 2975\u001b[1;33m         \u001b[0mfp\u001b[0m \u001b[1;33m=\u001b[0m \u001b[0mbuiltins\u001b[0m\u001b[1;33m.\u001b[0m\u001b[0mopen\u001b[0m\u001b[1;33m(\u001b[0m\u001b[0mfilename\u001b[0m\u001b[1;33m,\u001b[0m \u001b[1;34m\"rb\"\u001b[0m\u001b[1;33m)\u001b[0m\u001b[1;33m\u001b[0m\u001b[1;33m\u001b[0m\u001b[0m\n\u001b[0m\u001b[0;32m   2976\u001b[0m         \u001b[0mexclusive_fp\u001b[0m \u001b[1;33m=\u001b[0m \u001b[1;32mTrue\u001b[0m\u001b[1;33m\u001b[0m\u001b[1;33m\u001b[0m\u001b[0m\n\u001b[0;32m   2977\u001b[0m \u001b[1;33m\u001b[0m\u001b[0m\n",
      "\u001b[1;31mFileNotFoundError\u001b[0m: [Errno 2] No such file or directory: 'dataset/train/healthy/image (1).jpg'"
     ]
    }
   ],
   "source": [
    "#Healthy Leaf Image\n",
    "image_healthy = mpimg.imread(\"dataset/train/healthy/image (1).jpg\")\n",
    "plt.title(\"Healthy Leaf Example\")\n",
    "plt.imshow(image_healthy)"
   ]
  },
  {
   "cell_type": "code",
   "execution_count": 17,
   "metadata": {},
   "outputs": [
    {
     "ename": "NameError",
     "evalue": "name 'conv2d_1_features' is not defined",
     "output_type": "error",
     "traceback": [
      "\u001b[1;31m---------------------------------------------------------------------------\u001b[0m",
      "\u001b[1;31mNameError\u001b[0m                                 Traceback (most recent call last)",
      "\u001b[1;32m~\\AppData\\Local\\Temp/ipykernel_7180/1599174710.py\u001b[0m in \u001b[0;36m<module>\u001b[1;34m\u001b[0m\n\u001b[0;32m      9\u001b[0m     \u001b[0mplt\u001b[0m\u001b[1;33m.\u001b[0m\u001b[0maxis\u001b[0m\u001b[1;33m(\u001b[0m\u001b[1;34m'off'\u001b[0m\u001b[1;33m)\u001b[0m\u001b[1;33m\u001b[0m\u001b[1;33m\u001b[0m\u001b[0m\n\u001b[0;32m     10\u001b[0m     \u001b[0mplt\u001b[0m\u001b[1;33m.\u001b[0m\u001b[0mtitle\u001b[0m\u001b[1;33m(\u001b[0m\u001b[1;34m'filter'\u001b[0m\u001b[1;33m+\u001b[0m\u001b[0mstr\u001b[0m\u001b[1;33m(\u001b[0m\u001b[0mi\u001b[0m\u001b[1;33m)\u001b[0m\u001b[1;33m)\u001b[0m\u001b[1;33m\u001b[0m\u001b[1;33m\u001b[0m\u001b[0m\n\u001b[1;32m---> 11\u001b[1;33m     \u001b[0mplt\u001b[0m\u001b[1;33m.\u001b[0m\u001b[0mimshow\u001b[0m\u001b[1;33m(\u001b[0m\u001b[0mconv2d_1_features\u001b[0m\u001b[1;33m[\u001b[0m\u001b[1;36m0\u001b[0m\u001b[1;33m,\u001b[0m \u001b[1;33m:\u001b[0m\u001b[1;33m,\u001b[0m \u001b[1;33m:\u001b[0m\u001b[1;33m,\u001b[0m \u001b[0mi\u001b[0m\u001b[1;33m]\u001b[0m\u001b[1;33m,\u001b[0m \u001b[0mcmap\u001b[0m\u001b[1;33m=\u001b[0m\u001b[1;34m'viridis'\u001b[0m\u001b[1;33m)\u001b[0m\u001b[1;33m\u001b[0m\u001b[1;33m\u001b[0m\u001b[0m\n\u001b[0m\u001b[0;32m     12\u001b[0m \u001b[0mplt\u001b[0m\u001b[1;33m.\u001b[0m\u001b[0mshow\u001b[0m\u001b[1;33m(\u001b[0m\u001b[1;33m)\u001b[0m\u001b[1;33m\u001b[0m\u001b[1;33m\u001b[0m\u001b[0m\n",
      "\u001b[1;31mNameError\u001b[0m: name 'conv2d_1_features' is not defined"
     ]
    },
    {
     "data": {
      "image/png": "[encoded data removed]",
      "text/plain": [
       "<Figure size 1008x504 with 1 Axes>"
      ]
     },
     "metadata": {
      "needs_background": "light"
     },
     "output_type": "display_data"
    }
   ],
   "source": [
    "#List of image\n",
    "\n",
    "import matplotlib.image as mpimg\n",
    "fig=plt.figure(figsize=(14,7))\n",
    "columns = 8\n",
    "rows = 4\n",
    "for i in range(columns*rows):\n",
    "    fig.add_subplot(rows, columns, i+1)\n",
    "    plt.axis('off')\n",
    "    plt.title('filter'+str(i))\n",
    "    plt.imshow(conv2d_1_features[0, :, :, i], cmap='viridis')\n",
    "plt.show()"
   ]
  },
  {
   "cell_type": "markdown",
   "metadata": {},
   "source": [
    "## Global feature Extraction"
   ]
  },
  {
   "cell_type": "code",
   "execution_count": 18,
   "metadata": {
    "colab": {
     "base_uri": "https://localhost:8080/"
    },
    "id": "t_SLhDrzE1Kw",
    "outputId": "acfcf905-257f-4d28-e751-2f3a141914f2"
   },
   "outputs": [
    {
     "name": "stdout",
     "output_type": "stream",
     "text": [
      "[STATUS] processed folder: Apple___Apple_scab\n",
      "[STATUS] processed folder: Apple___Black_rot\n",
      "[STATUS] processed folder: Apple___Cedar_apple_rust\n",
      "[STATUS] processed folder: Apple___healthy\n",
      "[STATUS] completed Global Feature Extraction...\n"
     ]
    }
   ],
   "source": [
    "# loop over the training data sub-folders (Either Diseased or Healthy)\n",
    "for training_name in train_labels:\n",
    "    # join the training data path and each species training folder\n",
    "    dir = os.path.join(train_path, training_name)\n",
    "    # get the current training label\n",
    "    current_label = training_name\n",
    "\n",
    "    # loop over the images in each sub-folder\n",
    "    for x in range(1,images_per_class+1):\n",
    "        # get the image file name\n",
    "        file = dir + \"/\" +\"image (\" +str(x) +\")\"+ \".jpg\"\n",
    "\n",
    "        # read the image and resize it to a fixed-size\n",
    "        image = cv2.imread(file)\n",
    "        image = cv2.resize(image, fixed_size)\n",
    "\n",
    "        \n",
    "        # Running Function Bit By Bit\n",
    "        \n",
    "        RGB_BGR       = rgb_bgr(image)\n",
    "        BGR_HSV       = bgr_hsv(RGB_BGR)\n",
    "        IMG_SEGMENT   = img_segmentation(RGB_BGR,BGR_HSV)\n",
    "\n",
    "        # Call for Global Feature Descriptors\n",
    "        \n",
    "        fv_hu_moments = fd_hu_moments(IMG_SEGMENT)\n",
    "        fv_haralick   = fd_haralick(IMG_SEGMENT)\n",
    "        fv_histogram  = fd_histogram(IMG_SEGMENT)\n",
    "        \n",
    "        # Concatenate \n",
    "    \n",
    "        global_feature = np.hstack([fv_histogram, fv_haralick, fv_hu_moments])\n",
    "        \n",
    "        \n",
    "        \n",
    "        # update the list of labels and feature vectors\n",
    "        labels.append(current_label)\n",
    "        global_features.append(global_feature)\n",
    "\n",
    "    print(\"[STATUS] processed folder: {}\".format(current_label))\n",
    "\n",
    "print(\"[STATUS] completed Global Feature Extraction...\")"
   ]
  },
  {
   "cell_type": "markdown",
   "metadata": {},
   "source": [
    "## Label Encoding the target and Scaling the features"
   ]
  },
  {
   "cell_type": "code",
   "execution_count": 19,
   "metadata": {
    "colab": {
     "base_uri": "https://localhost:8080/"
    },
    "id": "VMw48xjGE1IA",
    "outputId": "824803a2-e86c-465f-c4c3-94a20d838e70"
   },
   "outputs": [
    {
     "name": "stdout",
     "output_type": "stream",
     "text": [
      "training labels encoded...!\n",
      "{'Apple___Apple_scab': 0, 'Apple___Black_rot': 1, 'Apple___Cedar_apple_rust': 2, 'Apple___healthy': 3}\n"
     ]
    }
   ],
   "source": [
    "# Encode The Target labels\n",
    "targetNames = np.unique(labels)\n",
    "le          = LabelEncoder()\n",
    "target      = le.fit_transform(labels)\n",
    "print(\"training labels encoded...!\")\n",
    "\n",
    "#Mapping of Target Labels (Diseased and Healthy)\n",
    "le_name_mapping = dict(zip(targetNames,range(len(target))))\n",
    "\n",
    "print(le_name_mapping)\n"
   ]
  },
  {
   "cell_type": "code",
   "execution_count": 20,
   "metadata": {
    "colab": {
     "base_uri": "https://localhost:8080/"
    },
    "id": "OGmNEK3dIdiS",
    "outputId": "f02be0c0-6c0e-494f-bc9b-15e6cdfde748"
   },
   "outputs": [
    {
     "name": "stdout",
     "output_type": "stream",
     "text": [
      "feature vector normalized...\n"
     ]
    }
   ],
   "source": [
    "# Scale features from global features in the range (0-1)\n",
    "from sklearn.preprocessing import MinMaxScaler # Could use Standard Scaler too!\n",
    "scaler            = MinMaxScaler(feature_range=(0, 1))\n",
    "rescaled_features = scaler.fit_transform(global_features)\n",
    "print(\"feature vector normalized...\")"
   ]
  },
  {
   "cell_type": "markdown",
   "metadata": {},
   "source": [
    "## Saving Data using HDF5 (Hierarchical Data Format version 5)"
   ]
  },
  {
   "cell_type": "code",
   "execution_count": 21,
   "metadata": {
    "colab": {
     "base_uri": "https://localhost:8080/"
    },
    "id": "phCqpWPZIdf2",
    "outputId": "d1099196-4896-43f0-afba-39d41251b300"
   },
   "outputs": [
    {
     "data": {
      "text/plain": [
       "<HDF5 dataset \"dataset_1\": shape (1000, 532), type \"<f8\">"
      ]
     },
     "execution_count": 21,
     "metadata": {},
     "output_type": "execute_result"
    }
   ],
   "source": [
    "# Save the feature vectors using HDF5 \n",
    "h5f_data = h5py.File(h5_train_data, 'w')\n",
    "h5f_data.create_dataset('dataset_1', data=np.array(rescaled_features))"
   ]
  },
  {
   "cell_type": "code",
   "execution_count": 22,
   "metadata": {
    "colab": {
     "base_uri": "https://localhost:8080/"
    },
    "id": "7Le__LvDIdcz",
    "outputId": "740ec0a7-f3a4-4086-f3c4-bff569a33891"
   },
   "outputs": [],
   "source": [
    "h5f_label = h5py.File(h5_train_labels, 'w')\n",
    "h5f_label.create_dataset('dataset_1', data=np.array(target))\n",
    "h5f_data.close()"
   ]
  },
  {
   "cell_type": "markdown",
   "metadata": {},
   "source": [
    "## Training ML Models "
   ]
  },
  {
   "cell_type": "code",
   "execution_count": 23,
   "metadata": {
    "colab": {
     "base_uri": "https://localhost:8080/"
    },
    "id": "vPeS2Ny_MpvU",
    "outputId": "4cef6d39-0177-488c-cee8-6157f8211ce1"
   },
   "outputs": [
    {
     "name": "stdout",
     "output_type": "stream",
     "text": [
      "Features shape: (1000, 532)\n",
      "Labels shape: (1000,)\n",
      "Training Started...\n"
     ]
    }
   ],
   "source": [
    "# TRAINING OUR MODEL\n",
    "#-----------------------------------\n",
    "import h5py\n",
    "import numpy as np\n",
    "import os\n",
    "#import glob\n",
    "import cv2\n",
    "import warnings\n",
    "from matplotlib import pyplot\n",
    "from sklearn.model_selection import train_test_split, cross_val_score\n",
    "from sklearn.model_selection import KFold, StratifiedKFold\n",
    "from sklearn.metrics import confusion_matrix, accuracy_score, classification_report\n",
    "from sklearn.linear_model import LogisticRegression\n",
    "from sklearn.tree import DecisionTreeClassifier\n",
    "from sklearn.ensemble import RandomForestClassifier\n",
    "from sklearn.neighbors import KNeighborsClassifier\n",
    "from sklearn.discriminant_analysis import LinearDiscriminantAnalysis\n",
    "from sklearn.naive_bayes import GaussianNB\n",
    "from sklearn.svm import SVC\n",
    "#import joblib\n",
    "\n",
    "warnings.filterwarnings('ignore')\n",
    "\n",
    "#--------------------\n",
    "# tunable-parameters\n",
    "#--------------------\n",
    "num_trees = 100\n",
    "test_size = 0.20\n",
    "seed      = 9\n",
    "train_path = \"dataset/train\"\n",
    "test_path  = \"dataset/test\"\n",
    "h5_train_data    = 'dataset/output/train_data.h5'\n",
    "h5_train_labels  = 'dataset/output/train_labels.h5'\n",
    "scoring    = \"accuracy\"\n",
    "\n",
    "# get the training labels\n",
    "train_labels = os.listdir(train_path)\n",
    "\n",
    "# sort the training labels\n",
    "train_labels.sort()\n",
    "\n",
    "if not os.path.exists(test_path):\n",
    "    os.makedirs(test_path)\n",
    "\n",
    "# create all the machine learning models\n",
    "models = []\n",
    "models.append(('LR', LogisticRegression(random_state=seed)))\n",
    "models.append(('LDA', LinearDiscriminantAnalysis()))\n",
    "models.append(('KNN', KNeighborsClassifier()))\n",
    "models.append(('CART', DecisionTreeClassifier(random_state=seed)))\n",
    "models.append(('RF', RandomForestClassifier(n_estimators=num_trees, random_state=seed)))\n",
    "models.append(('NB', GaussianNB()))\n",
    "models.append(('SVM', SVC(random_state=seed)))\n",
    "\n",
    "\n",
    "# import the feature vector and trained labels from h5f files\n",
    "h5f_data  = h5py.File(h5_train_data, 'r')\n",
    "h5f_label = h5py.File(h5_train_labels, 'r')\n",
    "\n",
    "global_features_string = h5f_data['dataset_1']\n",
    "global_labels_string   = h5f_label['dataset_1']\n",
    "\n",
    "global_features = np.array(global_features_string)\n",
    "global_labels   = np.array(global_labels_string)\n",
    "\n",
    "h5f_data.close()\n",
    "h5f_label.close()\n",
    "\n",
    "# verify the shape of the feature vector and labels\n",
    "print(\"Features shape: {}\".format(global_features.shape))\n",
    "print(\"Labels shape: {}\".format(global_labels.shape))\n",
    "\n",
    "print(\"Training Started...\")"
   ]
  },
  {
   "cell_type": "markdown",
   "metadata": {},
   "source": [
    "## Splitting the training and testing data"
   ]
  },
  {
   "cell_type": "code",
   "execution_count": 24,
   "metadata": {
    "colab": {
     "base_uri": "https://localhost:8080/"
    },
    "id": "QMUHNXdlNb66",
    "outputId": "2333db58-40dd-4de2-ccf8-30ad919b054a"
   },
   "outputs": [
    {
     "name": "stdout",
     "output_type": "stream",
     "text": [
      "[STATUS] splitted train and test data...\n",
      "Train data  : (800, 532)\n",
      "Test data   : (200, 532)\n"
     ]
    }
   ],
   "source": [
    "# split the training and testing data\n",
    "(trainDataGlobal, testDataGlobal, trainLabelsGlobal, testLabelsGlobal) = train_test_split(np.array(global_features),\n",
    "                                                                                          np.array(global_labels),\n",
    "                                                                                          test_size=test_size)\n",
    "\n",
    "print(\"[STATUS] splitted train and test data...\")\n",
    "print(\"Train data  : {}\".format(trainDataGlobal.shape))\n",
    "print(\"Test data   : {}\".format(testDataGlobal.shape)) "
   ]
  },
  {
   "cell_type": "code",
   "execution_count": 25,
   "metadata": {
    "colab": {
     "base_uri": "https://localhost:8080/"
    },
    "id": "MpA1MCVMNfSh",
    "outputId": "d08d6288-c329-4c8a-a86c-23d0b4ecc37f"
   },
   "outputs": [
    {
     "data": {
      "text/plain": [
       "array([[0.91734796, 0.01154887, 0.        , ..., 0.01100496, 0.02030923,\n",
       "        0.86218557],\n",
       "       [0.84196732, 0.        , 0.        , ..., 0.01100445, 0.02018745,\n",
       "        0.86217073],\n",
       "       [0.98721554, 0.00390411, 0.00768265, ..., 0.01099521, 0.01986752,\n",
       "        0.8621875 ],\n",
       "       ...,\n",
       "       [0.96257403, 0.03312656, 0.01216835, ..., 0.01100499, 0.02020228,\n",
       "        0.86216381],\n",
       "       [0.91221327, 0.08202355, 0.01041347, ..., 0.01100488, 0.0199774 ,\n",
       "        0.86216232],\n",
       "       [0.86837093, 0.        , 0.01821119, ..., 0.01100438, 0.0200365 ,\n",
       "        0.86215376]])"
      ]
     },
     "execution_count": 25,
     "metadata": {},
     "output_type": "execute_result"
    }
   ],
   "source": [
    "trainDataGlobal"
   ]
  },
  {
   "cell_type": "code",
   "execution_count": null,
   "metadata": {},
   "outputs": [],
   "source": [
    "#find mapping of test and train data to the file names"
   ]
  },
  {
   "cell_type": "markdown",
   "metadata": {},
   "source": [
    "## Trained ML Algorithms Comparision"
   ]
  },
  {
   "cell_type": "code",
   "execution_count": 26,
   "metadata": {
    "colab": {
     "base_uri": "https://localhost:8080/",
     "height": 412
    },
    "id": "PCmj2EqYNfQm",
    "outputId": "8908696e-fbad-4a5a-be22-9a8a47395597"
   },
   "outputs": [
    {
     "name": "stdout",
     "output_type": "stream",
     "text": [
      "LR: 10 fold results :-\n",
      " [0.8875 0.8875 0.9    0.8875 0.9125 0.95   0.925  0.875  0.9375 0.8375]\n",
      "mean: 0.900000  (0.031125)\n",
      "\n",
      "\n",
      "LDA: 10 fold results :-\n",
      " [0.8375 0.8875 0.8125 0.8875 0.8    0.925  0.85   0.8375 0.8    0.825 ]\n",
      "mean: 0.846250  (0.039548)\n",
      "\n",
      "\n",
      "KNN: 10 fold results :-\n",
      " [0.85   0.8625 0.8125 0.9    0.825  0.8875 0.9125 0.8125 0.8125 0.7875]\n",
      "mean: 0.846250  (0.040716)\n",
      "\n",
      "\n",
      "CART: 10 fold results :-\n",
      " [0.825  0.8875 0.9    0.8125 0.8    0.8625 0.825  0.8125 0.8875 0.85  ]\n",
      "mean: 0.846250  (0.034483)\n",
      "\n",
      "\n",
      "RF: 10 fold results :-\n",
      " [0.925  0.925  0.9625 0.9125 0.9875 0.9625 0.9625 0.9    0.9625 0.925 ]\n",
      "mean: 0.942500  (0.026926)\n",
      "\n",
      "\n",
      "NB: 10 fold results :-\n",
      " [0.8125 0.8    0.7625 0.8125 0.8375 0.875  0.8375 0.8125 0.8375 0.8125]\n",
      "mean: 0.820000  (0.028062)\n",
      "\n",
      "\n",
      "SVM: 10 fold results :-\n",
      " [0.825  0.85   0.9    0.85   0.9    0.925  0.9125 0.825  0.9125 0.825 ]\n",
      "mean: 0.872500  (0.039051)\n",
      "\n",
      "\n"
     ]
    },
    {
     "data": {
      "image/png": "[encoded data removed]",
      "text/plain": [
       "<Figure size 432x288 with 1 Axes>"
      ]
     },
     "metadata": {
      "needs_background": "light"
     },
     "output_type": "display_data"
    }
   ],
   "source": [
    "import matplotlib.pyplot as plt\n",
    "\n",
    "# variables to hold the results and names\n",
    "results = []\n",
    "names   = []\n",
    "\n",
    "# 10-fold cross validation\n",
    "for name, model in models:\n",
    "    kfold = KFold(n_splits=10, random_state=seed)\n",
    "    cv_results = cross_val_score(model, trainDataGlobal, trainLabelsGlobal, cv=kfold, scoring=scoring)\n",
    "    print(name +': 10 fold results :-\\n',cv_results )\n",
    "    \n",
    "    results.append(cv_results)\n",
    "    \n",
    "    names.append(name)\n",
    "    msg = \"%s: %f  (%f)\" % ('mean', cv_results.mean(), cv_results.std())\n",
    "    print(msg)\n",
    "    print('\\n')\n",
    "\n",
    "# boxplot algorithm comparison\n",
    "figure = plt.figure()\n",
    "figure.suptitle('Comparing All Algorithms Used')\n",
    "ax = figure.add_subplot(111)\n",
    "plt.boxplot(results)\n",
    "ax.set_xticklabels(names)\n",
    "plt.show()"
   ]
  },
  {
   "cell_type": "markdown",
   "metadata": {},
   "source": [
    "## Prediction Using Random Forest"
   ]
  },
  {
   "cell_type": "code",
   "execution_count": 27,
   "metadata": {
    "id": "2E4WpH-zOB1y"
   },
   "outputs": [],
   "source": [
    "clf  = RandomForestClassifier(n_estimators=num_trees, random_state=seed)"
   ]
  },
  {
   "cell_type": "code",
   "execution_count": 28,
   "metadata": {
    "colab": {
     "base_uri": "https://localhost:8080/"
    },
    "id": "JG7uo5QWNfOh",
    "outputId": "2a90f479-4b21-4c90-8afa-ff8a92ead833"
   },
   "outputs": [
    {
     "data": {
      "text/plain": [
       "RandomForestClassifier(random_state=9)"
      ]
     },
     "execution_count": 28,
     "metadata": {},
     "output_type": "execute_result"
    }
   ],
   "source": [
    "clf.fit(trainDataGlobal, trainLabelsGlobal)"
   ]
  },
  {
   "cell_type": "code",
   "execution_count": 29,
   "metadata": {
    "id": "MBS9sSSCNfMI"
   },
   "outputs": [],
   "source": [
    "y_predict=clf.predict(testDataGlobal)"
   ]
  },
  {
   "cell_type": "code",
   "execution_count": 30,
   "metadata": {},
   "outputs": [
    {
     "data": {
      "text/plain": [
       "array([1, 2, 0, 1, 3, 1, 1, 1, 1, 0, 0, 0, 3, 3, 0, 1, 2, 0, 1, 0, 1, 1,\n",
       "       3, 0, 2, 3, 3, 2, 1, 2, 1, 3, 2, 2, 1, 3, 0, 1, 0, 1, 2, 2, 0, 0,\n",
       "       3, 3, 3, 0, 3, 2, 1, 3, 3, 3, 0, 2, 2, 1, 1, 3, 2, 3, 0, 2, 3, 0,\n",
       "       0, 2, 3, 0, 1, 0, 3, 3, 2, 0, 1, 2, 2, 2, 1, 1, 0, 3, 0, 2, 1, 2,\n",
       "       0, 0, 0, 1, 3, 2, 2, 1, 3, 2, 1, 1, 1, 0, 3, 3, 3, 2, 2, 3, 1, 0,\n",
       "       0, 1, 2, 0, 3, 2, 0, 0, 1, 0, 0, 3, 2, 1, 1, 1, 3, 0, 0, 1, 2, 2,\n",
       "       1, 0, 1, 3, 3, 1, 0, 2, 2, 3, 0, 1, 1, 0, 0, 3, 3, 3, 2, 0, 2, 1,\n",
       "       0, 3, 1, 1, 1, 2, 1, 2, 1, 3, 3, 1, 2, 3, 1, 3, 3, 3, 1, 0, 1, 1,\n",
       "       0, 2, 1, 1, 3, 3, 2, 2, 3, 3, 2, 2, 1, 2, 0, 2, 1, 0, 0, 3, 2, 3,\n",
       "       0, 1], dtype=int64)"
      ]
     },
     "execution_count": 30,
     "metadata": {},
     "output_type": "execute_result"
    }
   ],
   "source": [
    "#Array of actual labels\n",
    "testLabelsGlobal"
   ]
  },
  {
   "cell_type": "code",
   "execution_count": 31,
   "metadata": {},
   "outputs": [
    {
     "data": {
      "text/plain": [
       "1    56\n",
       "3    50\n",
       "0    48\n",
       "2    46\n",
       "dtype: int64"
      ]
     },
     "execution_count": 31,
     "metadata": {},
     "output_type": "execute_result"
    }
   ],
   "source": [
    "# Number of actual diseased and Healthy plant leaves\n",
    "y_actual=pd.Index(testLabelsGlobal)\n",
    "y_actual.value_counts()"
   ]
  },
  {
   "cell_type": "code",
   "execution_count": 32,
   "metadata": {
    "colab": {
     "base_uri": "https://localhost:8080/"
    },
    "id": "NgJfB5H4NfJn",
    "outputId": "988e4d63-0949-410b-d965-de27c0723231"
   },
   "outputs": [
    {
     "data": {
      "text/plain": [
       "array([1, 2, 0, 1, 3, 1, 1, 1, 1, 0, 0, 0, 3, 3, 0, 1, 2, 3, 1, 0, 1, 1,\n",
       "       3, 0, 2, 3, 3, 2, 1, 2, 1, 0, 2, 2, 1, 3, 0, 1, 0, 1, 2, 2, 0, 0,\n",
       "       3, 3, 1, 0, 0, 2, 1, 3, 0, 3, 0, 2, 2, 1, 1, 3, 2, 3, 0, 2, 3, 0,\n",
       "       3, 2, 0, 0, 1, 0, 0, 3, 2, 1, 1, 2, 2, 2, 1, 1, 0, 3, 0, 2, 1, 2,\n",
       "       0, 0, 0, 1, 3, 2, 2, 1, 3, 2, 1, 1, 1, 1, 3, 3, 0, 2, 2, 3, 1, 0,\n",
       "       0, 1, 2, 0, 3, 2, 0, 0, 1, 0, 0, 3, 2, 1, 1, 1, 3, 0, 0, 1, 2, 2,\n",
       "       1, 0, 1, 3, 3, 1, 0, 2, 2, 3, 0, 1, 1, 0, 0, 3, 3, 3, 2, 0, 2, 1,\n",
       "       0, 0, 1, 1, 1, 2, 1, 2, 1, 3, 3, 1, 2, 3, 1, 3, 3, 3, 1, 0, 1, 1,\n",
       "       0, 2, 1, 1, 3, 3, 2, 2, 3, 3, 2, 2, 1, 2, 0, 2, 1, 0, 0, 3, 2, 3,\n",
       "       0, 1], dtype=int64)"
      ]
     },
     "execution_count": 32,
     "metadata": {},
     "output_type": "execute_result"
    }
   ],
   "source": [
    "#Array of predicted labels\n",
    "y_predict"
   ]
  },
  {
   "cell_type": "code",
   "execution_count": 33,
   "metadata": {},
   "outputs": [
    {
     "data": {
      "text/plain": [
       "1    59\n",
       "0    51\n",
       "2    46\n",
       "3    44\n",
       "dtype: int64"
      ]
     },
     "execution_count": 33,
     "metadata": {},
     "output_type": "execute_result"
    }
   ],
   "source": [
    "# Number of predicted diseased and Healthy plant leaves\n",
    "y=pd.Index(y_predict)\n",
    "y.value_counts()"
   ]
  },
  {
   "cell_type": "code",
   "execution_count": 34,
   "metadata": {},
   "outputs": [
    {
     "name": "stdout",
     "output_type": "stream",
     "text": [
      "(array([ 17,  31,  46,  48,  52,  66,  68,  72,  75, 101, 104, 155],\n",
      "      dtype=int64),)\n",
      "Unmatched 12\n"
     ]
    }
   ],
   "source": [
    "#Incorrectly Predicted plants (With indexes)\n",
    "print(np.where(y_predict != testLabelsGlobal))\n",
    "x=np.where(y_predict != testLabelsGlobal)[0]\n",
    "print('Unmatched',x.size)"
   ]
  },
  {
   "cell_type": "code",
   "execution_count": 35,
   "metadata": {},
   "outputs": [
    {
     "data": {
      "text/html": [
       "<div>\n",
       "<style scoped>\n",
       "    .dataframe tbody tr th:only-of-type {\n",
       "        vertical-align: middle;\n",
       "    }\n",
       "\n",
       "    .dataframe tbody tr th {\n",
       "        vertical-align: top;\n",
       "    }\n",
       "\n",
       "    .dataframe thead th {\n",
       "        text-align: right;\n",
       "    }\n",
       "</style>\n",
       "<table border=\"1\" class=\"dataframe\">\n",
       "  <thead>\n",
       "    <tr style=\"text-align: right;\">\n",
       "      <th></th>\n",
       "      <th>Test</th>\n",
       "      <th>Predicted</th>\n",
       "    </tr>\n",
       "  </thead>\n",
       "  <tbody>\n",
       "    <tr>\n",
       "      <th>0</th>\n",
       "      <td>1</td>\n",
       "      <td>1</td>\n",
       "    </tr>\n",
       "    <tr>\n",
       "      <th>1</th>\n",
       "      <td>2</td>\n",
       "      <td>2</td>\n",
       "    </tr>\n",
       "    <tr>\n",
       "      <th>2</th>\n",
       "      <td>0</td>\n",
       "      <td>0</td>\n",
       "    </tr>\n",
       "    <tr>\n",
       "      <th>3</th>\n",
       "      <td>1</td>\n",
       "      <td>1</td>\n",
       "    </tr>\n",
       "    <tr>\n",
       "      <th>4</th>\n",
       "      <td>3</td>\n",
       "      <td>3</td>\n",
       "    </tr>\n",
       "    <tr>\n",
       "      <th>...</th>\n",
       "      <td>...</td>\n",
       "      <td>...</td>\n",
       "    </tr>\n",
       "    <tr>\n",
       "      <th>195</th>\n",
       "      <td>3</td>\n",
       "      <td>3</td>\n",
       "    </tr>\n",
       "    <tr>\n",
       "      <th>196</th>\n",
       "      <td>2</td>\n",
       "      <td>2</td>\n",
       "    </tr>\n",
       "    <tr>\n",
       "      <th>197</th>\n",
       "      <td>3</td>\n",
       "      <td>3</td>\n",
       "    </tr>\n",
       "    <tr>\n",
       "      <th>198</th>\n",
       "      <td>0</td>\n",
       "      <td>0</td>\n",
       "    </tr>\n",
       "    <tr>\n",
       "      <th>199</th>\n",
       "      <td>1</td>\n",
       "      <td>1</td>\n",
       "    </tr>\n",
       "  </tbody>\n",
       "</table>\n",
       "<p>200 rows × 2 columns</p>\n",
       "</div>"
      ],
      "text/plain": [
       "     Test  Predicted\n",
       "0       1          1\n",
       "1       2          2\n",
       "2       0          0\n",
       "3       1          1\n",
       "4       3          3\n",
       "..    ...        ...\n",
       "195     3          3\n",
       "196     2          2\n",
       "197     3          3\n",
       "198     0          0\n",
       "199     1          1\n",
       "\n",
       "[200 rows x 2 columns]"
      ]
     },
     "execution_count": 35,
     "metadata": {},
     "output_type": "execute_result"
    }
   ],
   "source": [
    "#Table showing test labels and predicted labels for given test data of leaf images\n",
    "import pandas as pd\n",
    "\n",
    "df = pd.DataFrame({'Test':testLabelsGlobal, 'Predicted':y_predict})\n",
    "df"
   ]
  },
  {
   "cell_type": "code",
   "execution_count": 36,
   "metadata": {
    "id": "fbAj_TyuOONB"
   },
   "outputs": [
    {
     "data": {
      "text/plain": [
       "array([[44,  2,  0,  2],\n",
       "       [ 0, 56,  0,  0],\n",
       "       [ 0,  0, 46,  0],\n",
       "       [ 7,  1,  0, 42]], dtype=int64)"
      ]
     },
     "execution_count": 36,
     "metadata": {},
     "output_type": "execute_result"
    }
   ],
   "source": [
    "#Confusion Matrix\n",
    "cf_matrix = confusion_matrix(testLabelsGlobal,y_predict)\n",
    "cf_matrix\n"
   ]
  },
  {
   "cell_type": "code",
   "execution_count": 38,
   "metadata": {
    "colab": {
     "base_uri": "https://localhost:8080/",
     "height": 286
    },
    "id": "L9fvLI7WOOFM",
    "outputId": "7a9dca12-5309-4728-aec6-5c949e057ff7"
   },
   "outputs": [
    {
     "data": {
      "text/plain": [
       "<sklearn.metrics._plot.confusion_matrix.ConfusionMatrixDisplay at 0x1b11eddaf40>"
      ]
     },
     "execution_count": 38,
     "metadata": {},
     "output_type": "execute_result"
    },
    {
     "data": {
      "image/png": "[encoded data removed]",
      "text/plain": [
       "<Figure size 432x288 with 2 Axes>"
      ]
     },
     "metadata": {
      "needs_background": "light"
     },
     "output_type": "display_data"
    }
   ],
   "source": [
    "#Confusion Matrix Visualization\n",
    "\n",
    "from sklearn.metrics import confusion_matrix, ConfusionMatrixDisplay\n",
    "\n",
    "cm = confusion_matrix(testLabelsGlobal, y_predict)\n",
    "target_names=['scab','rot','apple_rust','healthy']\n",
    "cmd = ConfusionMatrixDisplay(cm, display_labels=target_names)\n",
    "#cmd = ConfusionMatrixDisplay(cm, display_labels=['Diseased 0','Healthy 1'])\n",
    "cmd.plot()\n"
   ]
  },
  {
   "cell_type": "code",
   "execution_count": 39,
   "metadata": {
    "colab": {
     "base_uri": "https://localhost:8080/"
    },
    "id": "aBRgfVJYOTpz",
    "outputId": "fbf81ba8-8440-426f-c2bc-2038fd0846ef"
   },
   "outputs": [
    {
     "data": {
      "text/plain": [
       "0.94"
      ]
     },
     "execution_count": 39,
     "metadata": {},
     "output_type": "execute_result"
    }
   ],
   "source": [
    "accuracy_score(testLabelsGlobal, y_predict)"
   ]
  },
  {
   "cell_type": "markdown",
   "metadata": {},
   "source": [
    "## Effect of Varying Random Forest hyperparameters"
   ]
  },
  {
   "cell_type": "markdown",
   "metadata": {},
   "source": [
    "1. Sample size vs Accuracy "
   ]
  },
  {
   "cell_type": "code",
   "execution_count": null,
   "metadata": {},
   "outputs": [],
   "source": [
    "# explore random forest bootstrap sample size on performance\n",
    "from numpy import mean\n",
    "from numpy import std\n",
    "from numpy import arange\n",
    "from sklearn.datasets import make_classification\n",
    "from sklearn.model_selection import cross_val_score\n",
    "from sklearn.model_selection import RepeatedStratifiedKFold\n",
    "from sklearn.ensemble import RandomForestClassifier\n",
    "from matplotlib import pyplot\n",
    " \n",
    "\n",
    "# get a list of models to evaluate\n",
    "def get_models():\n",
    "\tmodels = dict()\n",
    "\t# explore ratios from 10% to 100% in 10% increments\n",
    "\tfor i in arange(0.1, 1.1, 0.1):\n",
    "\t\tkey = '%.1f' % i\n",
    "\t\t# set max_samples=None to use 100%\n",
    "\t\tif i == 1.0:\n",
    "\t\t\ti = None\n",
    "\t\tmodels[key] = RandomForestClassifier(max_samples=i)\n",
    "\treturn models\n",
    "\n",
    "\n",
    "# evaluate a given model using cross-validation\n",
    "def evaluate_model(model, X, y):\n",
    "\t# define the evaluation procedure\n",
    "\tcv = RepeatedStratifiedKFold(n_splits=10, n_repeats=3, random_state=1)\n",
    "\t# evaluate the model and collect the results\n",
    "\tscores = cross_val_score(model, X, y, scoring='accuracy', cv=cv, n_jobs=-1)\n",
    "\treturn scores\n",
    "\n",
    "X=global_features\n",
    "y=labels\n",
    "# get the models to evaluate\n",
    "models = get_models()\n",
    "# evaluate the models and store results\n",
    "results, names = list(), list()\n",
    "for name, model in models.items():\n",
    "\t# evaluate the model\n",
    "\tscores = evaluate_model(model, X, y)\n",
    "\t# store the results\n",
    "\tresults.append(scores)\n",
    "\tnames.append(name)\n",
    "\t# summarize the performance along the way\n",
    "\tprint('>%s %.3f (%.3f)' % (name, mean(scores), std(scores)))\n",
    "# plot model performance for comparison\n",
    "pyplot.boxplot(results, labels=names, showmeans=True)\n",
    "pyplot.show()"
   ]
  },
  {
   "cell_type": "markdown",
   "metadata": {},
   "source": [
    "2. Number of Trees vs Accuracy"
   ]
  },
  {
   "cell_type": "code",
   "execution_count": null,
   "metadata": {},
   "outputs": [],
   "source": [
    "# explore random forest number of trees effect on performance\n",
    "from numpy import mean\n",
    "from numpy import std\n",
    "from sklearn.datasets import make_classification\n",
    "from sklearn.model_selection import cross_val_score\n",
    "from sklearn.model_selection import RepeatedStratifiedKFold\n",
    "from sklearn.ensemble import RandomForestClassifier\n",
    "from matplotlib import pyplot\n",
    " \n",
    "\n",
    "# get a list of models to evaluate\n",
    "def get_models():\n",
    "\tmodels = dict()\n",
    "\t# define number of trees to consider\n",
    "\tn_trees = [10, 50, 100, 500, 1000]\n",
    "\tfor n in n_trees:\n",
    "\t\tmodels[str(n)] = RandomForestClassifier(n_estimators=n)\n",
    "\treturn models\n",
    " \n",
    "# evaluate a given model using cross-validation\n",
    "def evaluate_model(model, X, y):\n",
    "\t# define the evaluation procedure\n",
    "\tcv = RepeatedStratifiedKFold(n_splits=10, n_repeats=3, random_state=1)\n",
    "\t# evaluate the model and collect the results\n",
    "\tscores = cross_val_score(model, X, y, scoring='accuracy', cv=cv, n_jobs=-1)\n",
    "\treturn scores\n",
    " \n",
    "X=global_features\n",
    "y=labels\n",
    "# get the models to evaluate\n",
    "models = get_models()\n",
    "# evaluate the models and store results\n",
    "results, names = list(), list()\n",
    "for name, model in models.items():\n",
    "\t# evaluate the model\n",
    "\tscores = evaluate_model(model, X, y)\n",
    "\t# store the results\n",
    "\tresults.append(scores)\n",
    "\tnames.append(name)\n",
    "\t# summarize the performance along the way\n",
    "\tprint('>%s %.3f (%.3f)' % (name, mean(scores), std(scores)))\n",
    "# plot model performance for comparison\n",
    "pyplot.boxplot(results, labels=names, showmeans=True)\n",
    "pyplot.show()"
   ]
  },
  {
   "cell_type": "markdown",
   "metadata": {},
   "source": [
    "## Hybrid PSO-Random Forest Implementation"
   ]
  },
  {
   "cell_type": "markdown",
   "metadata": {},
   "source": [
    "PSO Functions"
   ]
  },
  {
   "cell_type": "code",
   "execution_count": 42,
   "metadata": {},
   "outputs": [],
   "source": [
    "\n",
    "# error rate\n",
    "def error_rate(xtrain, ytrain, x, opts):\n",
    "    # parameters\n",
    "    k     = opts['k']\n",
    "    fold  = opts['fold']\n",
    "    num_trees=opts['num_trees']\n",
    "    seeds=['seeds']\n",
    "    xt    = fold['xt']\n",
    "    yt    = fold['yt']\n",
    "    xv    = fold['xv']\n",
    "    yv    = fold['yv']\n",
    "    \n",
    "    # Number of instances\n",
    "    num_train = np.size(xt, 0)\n",
    "    num_valid = np.size(xv, 0)\n",
    "    # Define selected features\n",
    "    xtrain  = xt[:, x == 1]\n",
    "    ytrain  = yt.reshape(num_train)  # Solve bug\n",
    "    xvalid  = xv[:, x == 1]\n",
    "    yvalid  = yv.reshape(num_valid)  # Solve bug   \n",
    "    # Training\n",
    "    #mdl     = KNeighborsClassifier(n_neighbors = k)\n",
    "    mdl  = RandomForestClassifier(n_estimators=num_trees, random_state=seed)\n",
    "    mdl.fit(xtrain, ytrain)\n",
    "    # Prediction\n",
    "    ypred   = mdl.predict(xvalid)\n",
    "    acc     = np.sum(yvalid == ypred) / num_valid\n",
    "    error   = 1 - acc\n",
    "    \n",
    "    return error\n",
    "\n",
    "\n",
    "# Error rate & Feature size\n",
    "def Fun(xtrain, ytrain, x, opts):\n",
    "    # Parameters\n",
    "    alpha    = 0.99\n",
    "    beta     = 1 - alpha\n",
    "    # Original feature size\n",
    "    max_feat = len(x)\n",
    "    # Number of selected features\n",
    "    num_feat = np.sum(x == 1)\n",
    "    # Solve if no feature selected\n",
    "    if num_feat == 0:\n",
    "        cost  = 1\n",
    "    else:\n",
    "        # Get error rate\n",
    "        error = error_rate(xtrain, ytrain, x, opts)\n",
    "        # Objective function\n",
    "        cost  = alpha * error + beta * (num_feat / max_feat)\n",
    "        \n",
    "    return cost\n",
    "\n",
    "\n",
    "\n",
    "def init_position(lb, ub, N, dim):\n",
    "    X = np.zeros([N, dim], dtype='float')\n",
    "    for i in range(N):\n",
    "        for d in range(dim):\n",
    "            X[i,d] = lb[0,d] + (ub[0,d] - lb[0,d]) * rand()        \n",
    "    \n",
    "    return X\n",
    "\n",
    "\n",
    "def init_velocity(lb, ub, N, dim):\n",
    "    V    = np.zeros([N, dim], dtype='float')\n",
    "    Vmax = np.zeros([1, dim], dtype='float')\n",
    "    Vmin = np.zeros([1, dim], dtype='float')\n",
    "    # Maximum & minimum velocity\n",
    "    for d in range(dim):\n",
    "        Vmax[0,d] = (ub[0,d] - lb[0,d]) / 2\n",
    "        Vmin[0,d] = -Vmax[0,d]\n",
    "        \n",
    "    for i in range(N):\n",
    "        for d in range(dim):\n",
    "            V[i,d] = Vmin[0,d] + (Vmax[0,d] - Vmin[0,d]) * rand()\n",
    "        \n",
    "    return V, Vmax, Vmin\n",
    "\n",
    "\n",
    "def binary_conversion(X, thres, N, dim):\n",
    "    Xbin = np.zeros([N, dim], dtype='int')\n",
    "    for i in range(N):\n",
    "        for d in range(dim):\n",
    "            if X[i,d] > thres:\n",
    "                Xbin[i,d] = 1\n",
    "            else:\n",
    "                Xbin[i,d] = 0\n",
    "    \n",
    "    return Xbin\n",
    "\n",
    "\n",
    "def boundary(x, lb, ub):\n",
    "    if x < lb:\n",
    "        x = lb\n",
    "    if x > ub:\n",
    "        x = ub\n",
    "    \n",
    "    return x\n",
    "    \n",
    "\n",
    "def pso(xtrain, ytrain, opts):\n",
    "    # Default Parameters\n",
    "    ub    = 1\n",
    "    lb    = 0\n",
    "    thres = 0.5\n",
    "    w     = 0.9    # inertia weight\n",
    "    c1    = 2      # acceleration factor\n",
    "    c2    = 2      # acceleration factor\n",
    "    \n",
    "    N        = opts['N']\n",
    "    max_iter = opts['T']\n",
    "    if 'w' in opts:\n",
    "        w    = opts['w']\n",
    "    if 'c1' in opts:\n",
    "        c1   = opts['c1']\n",
    "    if 'c2' in opts:\n",
    "        c2   = opts['c2'] \n",
    "    \n",
    "    # Dimension\n",
    "    dim = np.size(xtrain, 1)\n",
    "    if np.size(lb) == 1:\n",
    "        ub = ub * np.ones([1, dim], dtype='float')\n",
    "        lb = lb * np.ones([1, dim], dtype='float')\n",
    "    \n",
    "    # Initialize position & velocity\n",
    "    X             = init_position(lb, ub, N, dim)\n",
    "  \n",
    "    V, Vmax, Vmin = init_velocity(lb, ub, N, dim) \n",
    "    \n",
    "    # Pre\n",
    "    fit   = np.zeros([N, 1], dtype='float')\n",
    "    Xgb   = np.zeros([1, dim], dtype='float')\n",
    "    fitG  = float('inf')\n",
    "    Xpb   = np.zeros([N, dim], dtype='float')\n",
    "    fitP  = float('inf') * np.ones([N, 1], dtype='float')\n",
    "    curve = np.zeros([1, max_iter], dtype='float') \n",
    "    t     = 0\n",
    "    \n",
    "    #Stopping Criteria\n",
    "    while t < max_iter:\n",
    "        # Binary conversion\n",
    "        Xbin = binary_conversion(X, thres, N, dim)\n",
    "        \n",
    "        # Fitness\n",
    "        for i in range(N):\n",
    "            fit[i,0] = Fun(xtrain, ytrain, Xbin[i,:], opts)\n",
    "            if fit[i,0] < fitP[i,0]:\n",
    "                Xpb[i,:]  = X[i,:]\n",
    "                fitP[i,0] = fit[i,0]\n",
    "            if fitP[i,0] < fitG:\n",
    "                Xgb[0,:]  = Xpb[i,:]\n",
    "                fitG      = fitP[i,0]\n",
    "        \n",
    "        Gbin2       = binary_conversion(Xgb, thres, 1, dim) \n",
    "        Gbin2       = Gbin2.reshape(dim)\n",
    "        pos2        = np.asarray(range(0, dim))\n",
    "        sel_index2  = pos2[Gbin2 == 1]\n",
    "        \n",
    "       \n",
    "        print(\"Feature Subset after {} iterations {}: \".format(t+1,sel_index2))\n",
    "        \n",
    "        # Store result\n",
    "        curve[0,t] = fitG.copy()\n",
    "        \n",
    "        print(\"Iteration:\", t + 1)\n",
    "        \n",
    "        print(\"Best (PSO):\", curve[0,t])\n",
    "        t += 1\n",
    "        \n",
    "        \n",
    "        for i in range(N):\n",
    "            for d in range(dim):\n",
    "                # Update velocity\n",
    "                r1     = rand()\n",
    "                r2     = rand()\n",
    "                V[i,d] = w * V[i,d] + c1 * r1 * (Xpb[i,d] - X[i,d]) + c2 * r2 * (Xgb[0,d] - X[i,d]) \n",
    "                # Boundary\n",
    "                V[i,d] = boundary(V[i,d], Vmin[0,d], Vmax[0,d])\n",
    "                # Update position\n",
    "                X[i,d] = X[i,d] + V[i,d]\n",
    "                # Boundary\n",
    "                X[i,d] = boundary(X[i,d], lb[0,d], ub[0,d])\n",
    "           \n",
    "                \n",
    "    # Best feature subset\n",
    "    Gbin       = binary_conversion(Xgb, thres, 1, dim) \n",
    "    Gbin       = Gbin.reshape(dim)\n",
    "    pos        = np.asarray(range(0, dim))    \n",
    "    sel_index  = pos[Gbin == 1]\n",
    "    num_feat   = len(sel_index)\n",
    "    # Create dictionary\n",
    "    pso_data = {'sf': sel_index, 'c': curve, 'nf': num_feat}\n",
    "    \n",
    "    return pso_data    "
   ]
  },
  {
   "cell_type": "code",
   "execution_count": 43,
   "metadata": {},
   "outputs": [
    {
     "name": "stdout",
     "output_type": "stream",
     "text": [
      "Feature Subset after 1 iterations [  1   2   3   4   5   8   9  10  12  13  14  15  16  17  18  19  20  22\n",
      "  25  26  31  34  37  38  39  40  42  44  47  54  55  57  60  63  68  71\n",
      "  72  74  75  77  81  82  84  86  87  88  89  91  94  95  99 101 103 104\n",
      " 105 106 107 108 109 110 111 112 114 115 116 117 118 119 123 124 128 129\n",
      " 130 136 137 139 140 141 145 146 148 152 154 156 157 158 161 162 164 167\n",
      " 168 170 172 175 176 181 183 185 188 189 193 194 195 197 198 200 201 204\n",
      " 207 208 209 210 211 213 214 215 216 218 220 221 223 225 226 231 232 233\n",
      " 234 236 239 241 246 247 248 250 251 253 254 255 256 257 260 261 262 267\n",
      " 269 270 271 272 273 275 277 278 279 280 281 282 286 289 290 291 293 294\n",
      " 302 303 304 306 307 308 309 313 314 315 317 318 319 323 327 333 336 341\n",
      " 342 343 347 351 352 353 354 356 357 362 363 365 366 368 369 371 373 375\n",
      " 376 377 379 381 382 383 384 385 386 388 390 393 394 397 400 402 403 404\n",
      " 405 406 410 412 413 414 415 416 417 418 424 426 427 428 433 434 438 439\n",
      " 440 444 446 448 449 450 451 452 453 456 460 462 463 464 466 468 470 473\n",
      " 475 476 477 479 480 481 482 487 491 492 496 497 499 501 503 508 509 510\n",
      " 513 514 515 516 519 520 523 524 525 526 527 528 529 530]: \n",
      "Iteration: 1\n",
      "Best (PSO): 0.05813834586466167\n",
      "Feature Subset after 2 iterations [  1   2   3   4   5   8   9  10  12  13  14  15  16  17  18  19  20  22\n",
      "  25  26  31  34  37  38  39  40  42  44  47  54  55  57  60  63  68  71\n",
      "  72  74  75  77  81  82  84  86  87  88  89  91  94  95  99 101 103 104\n",
      " 105 106 107 108 109 110 111 112 114 115 116 117 118 119 123 124 128 129\n",
      " 130 136 137 139 140 141 145 146 148 152 154 156 157 158 161 162 164 167\n",
      " 168 170 172 175 176 181 183 185 188 189 193 194 195 197 198 200 201 204\n",
      " 207 208 209 210 211 213 214 215 216 218 220 221 223 225 226 231 232 233\n",
      " 234 236 239 241 246 247 248 250 251 253 254 255 256 257 260 261 262 267\n",
      " 269 270 271 272 273 275 277 278 279 280 281 282 286 289 290 291 293 294\n",
      " 302 303 304 306 307 308 309 313 314 315 317 318 319 323 327 333 336 341\n",
      " 342 343 347 351 352 353 354 356 357 362 363 365 366 368 369 371 373 375\n",
      " 376 377 379 381 382 383 384 385 386 388 390 393 394 397 400 402 403 404\n",
      " 405 406 410 412 413 414 415 416 417 418 424 426 427 428 433 434 438 439\n",
      " 440 444 446 448 449 450 451 452 453 456 460 462 463 464 466 468 470 473\n",
      " 475 476 477 479 480 481 482 487 491 492 496 497 499 501 503 508 509 510\n",
      " 513 514 515 516 519 520 523 524 525 526 527 528 529 530]: \n",
      "Iteration: 2\n",
      "Best (PSO): 0.05813834586466167\n",
      "Feature Subset after 3 iterations [  1   2   3   4   5   8   9  10  12  13  14  15  16  17  18  19  20  22\n",
      "  25  26  31  34  37  38  39  40  42  44  47  54  55  57  60  63  68  71\n",
      "  72  74  75  77  81  82  84  86  87  88  89  91  94  95  99 101 103 104\n",
      " 105 106 107 108 109 110 111 112 114 115 116 117 118 119 123 124 128 129\n",
      " 130 136 137 139 140 141 145 146 148 152 154 156 157 158 161 162 164 167\n",
      " 168 170 172 175 176 181 183 185 188 189 193 194 195 197 198 200 201 204\n",
      " 207 208 209 210 211 213 214 215 216 218 220 221 223 225 226 231 232 233\n",
      " 234 236 239 241 246 247 248 250 251 253 254 255 256 257 260 261 262 267\n",
      " 269 270 271 272 273 275 277 278 279 280 281 282 286 289 290 291 293 294\n",
      " 302 303 304 306 307 308 309 313 314 315 317 318 319 323 327 333 336 341\n",
      " 342 343 347 351 352 353 354 356 357 362 363 365 366 368 369 371 373 375\n",
      " 376 377 379 381 382 383 384 385 386 388 390 393 394 397 400 402 403 404\n",
      " 405 406 410 412 413 414 415 416 417 418 424 426 427 428 433 434 438 439\n",
      " 440 444 446 448 449 450 451 452 453 456 460 462 463 464 466 468 470 473\n",
      " 475 476 477 479 480 481 482 487 491 492 496 497 499 501 503 508 509 510\n",
      " 513 514 515 516 519 520 523 524 525 526 527 528 529 530]: \n",
      "Iteration: 3\n",
      "Best (PSO): 0.05813834586466167\n",
      "Feature Subset after 4 iterations [  1   2   4   5   6   7   8  10  12  13  14  17  18  19  21  22  25  26\n",
      "  27  30  33  34  37  38  40  42  43  45  47  50  52  53  55  61  66  67\n",
      "  71  73  74  76  78  81  84  85  86  87  88  91  94  95  98  99 100 101\n",
      " 102 103 104 106 107 109 110 111 114 117 119 120 121 123 126 128 129 130\n",
      " 131 133 134 136 137 138 144 148 152 155 156 157 158 159 160 161 162 165\n",
      " 166 167 174 175 176 179 180 181 185 186 188 189 195 197 201 206 208 210\n",
      " 211 213 214 215 216 218 220 221 223 224 225 226 228 229 230 231 233 234\n",
      " 236 237 239 240 247 248 249 250 251 252 255 256 257 265 267 269 270 271\n",
      " 272 277 279 280 281 282 286 287 289 291 294 297 298 303 306 307 308 311\n",
      " 312 313 314 315 318 319 323 324 326 329 331 333 337 339 341 342 343 345\n",
      " 346 347 350 351 352 353 354 361 362 363 364 366 369 371 373 375 376 382\n",
      " 384 385 389 390 393 394 397 399 400 402 403 404 410 412 413 415 418 419\n",
      " 423 426 427 428 429 430 433 436 438 439 440 442 444 447 449 450 451 452\n",
      " 456 460 461 463 465 466 473 475 477 480 481 485 486 487 492 495 496 497\n",
      " 499 500 501 508 513 514 515 519 523 525 528 529 530]: \n",
      "Iteration: 4\n",
      "Best (PSO): 0.05778120300751881\n",
      "Feature Subset after 5 iterations [  2   3   4   5   6   7   8  10  11  12  13  14  17  19  22  25  26  27\n",
      "  30  31  33  34  37  38  39  40  41  42  43  47  49  52  53  55  65  67\n",
      "  70  71  72  73  76  81  82  84  85  87  88  91  94  95  96  99 100 101\n",
      " 103 104 106 107 108 109 111 114 118 119 120 121 123 126 128 133 134 137\n",
      " 138 141 144 148 152 156 159 161 162 165 166 174 175 179 180 185 188 189\n",
      " 195 197 201 206 208 210 211 213 215 218 220 221 224 225 229 230 231 232\n",
      " 233 234 235 236 237 239 240 247 248 249 250 252 255 256 257 258 260 265\n",
      " 266 267 269 271 272 279 280 281 282 283 286 288 289 290 291 294 298 303\n",
      " 306 308 309 311 312 314 315 318 320 321 323 324 326 329 331 333 335 338\n",
      " 339 341 342 343 349 352 353 354 356 357 358 360 361 362 363 364 365 366\n",
      " 368 371 373 375 376 378 379 382 384 385 387 390 393 394 397 399 400 402\n",
      " 403 404 410 412 413 422 425 426 427 428 429 430 432 433 436 438 440 442\n",
      " 444 447 449 451 456 458 461 463 465 466 471 473 475 476 477 481 482 484\n",
      " 485 486 492 494 496 497 499 500 501 502 503 505 507 508 509 513 514 515\n",
      " 519 522 523 525 526 528 529 530]: \n",
      "Iteration: 5\n",
      "Best (PSO): 0.057687218045112794\n",
      "Feature Subset after 6 iterations [  1   2   3   4   5   6   8  10  11  12  13  14  17  18  19  22  25  26\n",
      "  27  30  33  34  37  38  40  41  42  43  45  47  49  51  52  53  55  57\n",
      "  61  62  71  73  76  77  81  82  84  85  87  88  89  91  94  95  99 100\n",
      " 101 103 104 107 108 109 111 114 116 117 121 123 126 128 129 134 137 138\n",
      " 141 144 148 152 155 156 157 158 159 161 162 165 166 174 175 176 179 180\n",
      " 181 183 185 189 194 195 197 201 206 208 209 210 211 213 215 220 221 224\n",
      " 225 228 229 231 232 233 234 236 237 239 240 247 248 249 250 251 255 256\n",
      " 257 259 260 265 266 267 269 270 271 272 275 279 280 281 282 286 287 289\n",
      " 290 291 295 296 298 303 304 306 308 309 311 312 314 315 318 319 323 324\n",
      " 326 329 331 333 336 338 341 342 343 347 349 352 354 356 357 360 361 362\n",
      " 363 364 366 369 371 373 375 376 378 379 382 384 387 389 390 393 394 397\n",
      " 402 403 410 412 413 414 415 416 418 426 427 428 429 433 434 436 438 439\n",
      " 440 442 444 449 450 451 452 456 458 461 463 465 466 471 473 475 476 477\n",
      " 481 482 484 485 486 487 492 493 494 495 496 499 501 505 507 509 513 514\n",
      " 515 519 522 524 525 526 528 529 530]: \n",
      "Iteration: 6\n",
      "Best (PSO): 0.054406015037594034\n",
      "Feature Subset after 7 iterations [  1   3   4   6  10  12  13  14  15  17  18  19  20  21  25  26  28  31\n",
      "  33  37  38  39  40  44  45  47  51  52  54  55  57  63  68  71  73  77\n",
      "  78  81  84  87  88  89  91  94  95  96 100 101 104 106 107 108 109 111\n",
      " 114 115 116 117 123 126 128 129 130 133 134 136 137 138 139 140 141 143\n",
      " 145 148 152 156 157 159 162 164 166 167 174 175 176 179 180 183 184 185\n",
      " 188 189 191 193 194 195 197 199 202 204 208 209 210 213 216 218 219 220\n",
      " 223 224 225 226 228 231 232 233 234 236 237 238 239 247 248 250 251 254\n",
      " 256 257 260 261 262 269 270 271 272 275 279 280 281 282 286 287 289 290\n",
      " 291 295 297 298 303 304 306 308 309 314 315 318 319 324 326 327 329 330\n",
      " 336 341 342 343 347 349 351 352 353 354 356 357 359 362 363 364 365 367\n",
      " 369 371 372 373 375 378 379 381 384 389 390 394 400 402 403 404 405 406\n",
      " 410 413 414 415 416 417 418 424 426 427 428 433 434 436 439 440 442 444\n",
      " 449 452 453 456 458 462 463 464 466 468 469 473 475 476 477 479 481 482\n",
      " 484 486 487 492 493 494 496 498 499 501 504 509 510 513 514 515 516 518\n",
      " 519 522 524 525 528 529 530 531]: \n",
      "Iteration: 7\n",
      "Best (PSO): 0.05438721804511283\n"
     ]
    },
    {
     "name": "stdout",
     "output_type": "stream",
     "text": [
      "Feature Subset after 8 iterations [  1   3   4   6  10  12  13  14  15  17  18  19  20  21  25  26  28  31\n",
      "  33  37  38  39  40  44  45  47  51  52  54  55  57  63  68  71  73  77\n",
      "  78  81  84  87  88  89  91  94  95  96 100 101 104 106 107 108 109 111\n",
      " 114 115 116 117 123 126 128 129 130 133 134 136 137 138 139 140 141 143\n",
      " 145 148 152 156 157 159 162 164 166 167 174 175 176 179 180 183 184 185\n",
      " 188 189 191 193 194 195 197 199 202 204 208 209 210 213 216 218 219 220\n",
      " 223 224 225 226 228 231 232 233 234 236 237 238 239 247 248 250 251 254\n",
      " 256 257 260 261 262 269 270 271 272 275 279 280 281 282 286 287 289 290\n",
      " 291 295 297 298 303 304 306 308 309 314 315 318 319 324 326 327 329 330\n",
      " 336 341 342 343 347 349 351 352 353 354 356 357 359 362 363 364 365 367\n",
      " 369 371 372 373 375 378 379 381 384 389 390 394 400 402 403 404 405 406\n",
      " 410 413 414 415 416 417 418 424 426 427 428 433 434 436 439 440 442 444\n",
      " 449 452 453 456 458 462 463 464 466 468 469 473 475 476 477 479 481 482\n",
      " 484 486 487 492 493 494 496 498 499 501 504 509 510 513 514 515 516 518\n",
      " 519 522 524 525 528 529 530 531]: \n",
      "Iteration: 8\n",
      "Best (PSO): 0.05438721804511283\n",
      "Feature Subset after 9 iterations [  1   3   4   6  10  12  13  14  15  17  18  19  20  21  25  26  28  31\n",
      "  33  37  38  39  40  44  45  47  51  52  54  55  57  63  68  71  73  77\n",
      "  78  81  84  87  88  89  91  94  95  96 100 101 104 106 107 108 109 111\n",
      " 114 115 116 117 123 126 128 129 130 133 134 136 137 138 139 140 141 143\n",
      " 145 148 152 156 157 159 162 164 166 167 174 175 176 179 180 183 184 185\n",
      " 188 189 191 193 194 195 197 199 202 204 208 209 210 213 216 218 219 220\n",
      " 223 224 225 226 228 231 232 233 234 236 237 238 239 247 248 250 251 254\n",
      " 256 257 260 261 262 269 270 271 272 275 279 280 281 282 286 287 289 290\n",
      " 291 295 297 298 303 304 306 308 309 314 315 318 319 324 326 327 329 330\n",
      " 336 341 342 343 347 349 351 352 353 354 356 357 359 362 363 364 365 367\n",
      " 369 371 372 373 375 378 379 381 384 389 390 394 400 402 403 404 405 406\n",
      " 410 413 414 415 416 417 418 424 426 427 428 433 434 436 439 440 442 444\n",
      " 449 452 453 456 458 462 463 464 466 468 469 473 475 476 477 479 481 482\n",
      " 484 486 487 492 493 494 496 498 499 501 504 509 510 513 514 515 516 518\n",
      " 519 522 524 525 528 529 530 531]: \n",
      "Iteration: 9\n",
      "Best (PSO): 0.05438721804511283\n",
      "Feature Subset after 10 iterations [  1   3   4   6  10  12  13  14  15  17  18  19  20  21  25  26  28  31\n",
      "  33  37  38  39  40  44  45  47  51  52  54  55  57  63  68  71  73  77\n",
      "  78  81  84  87  88  89  91  94  95  96 100 101 104 106 107 108 109 111\n",
      " 114 115 116 117 123 126 128 129 130 133 134 136 137 138 139 140 141 143\n",
      " 145 148 152 156 157 159 162 164 166 167 174 175 176 179 180 183 184 185\n",
      " 188 189 191 193 194 195 197 199 202 204 208 209 210 213 216 218 219 220\n",
      " 223 224 225 226 228 231 232 233 234 236 237 238 239 247 248 250 251 254\n",
      " 256 257 260 261 262 269 270 271 272 275 279 280 281 282 286 287 289 290\n",
      " 291 295 297 298 303 304 306 308 309 314 315 318 319 324 326 327 329 330\n",
      " 336 341 342 343 347 349 351 352 353 354 356 357 359 362 363 364 365 367\n",
      " 369 371 372 373 375 378 379 381 384 389 390 394 400 402 403 404 405 406\n",
      " 410 413 414 415 416 417 418 424 426 427 428 433 434 436 439 440 442 444\n",
      " 449 452 453 456 458 462 463 464 466 468 469 473 475 476 477 479 481 482\n",
      " 484 486 487 492 493 494 496 498 499 501 504 509 510 513 514 515 516 518\n",
      " 519 522 524 525 528 529 530 531]: \n",
      "Iteration: 10\n",
      "Best (PSO): 0.05438721804511283\n",
      "fmdl {'sf': array([  1,   3,   4,   6,  10,  12,  13,  14,  15,  17,  18,  19,  20,\n",
      "        21,  25,  26,  28,  31,  33,  37,  38,  39,  40,  44,  45,  47,\n",
      "        51,  52,  54,  55,  57,  63,  68,  71,  73,  77,  78,  81,  84,\n",
      "        87,  88,  89,  91,  94,  95,  96, 100, 101, 104, 106, 107, 108,\n",
      "       109, 111, 114, 115, 116, 117, 123, 126, 128, 129, 130, 133, 134,\n",
      "       136, 137, 138, 139, 140, 141, 143, 145, 148, 152, 156, 157, 159,\n",
      "       162, 164, 166, 167, 174, 175, 176, 179, 180, 183, 184, 185, 188,\n",
      "       189, 191, 193, 194, 195, 197, 199, 202, 204, 208, 209, 210, 213,\n",
      "       216, 218, 219, 220, 223, 224, 225, 226, 228, 231, 232, 233, 234,\n",
      "       236, 237, 238, 239, 247, 248, 250, 251, 254, 256, 257, 260, 261,\n",
      "       262, 269, 270, 271, 272, 275, 279, 280, 281, 282, 286, 287, 289,\n",
      "       290, 291, 295, 297, 298, 303, 304, 306, 308, 309, 314, 315, 318,\n",
      "       319, 324, 326, 327, 329, 330, 336, 341, 342, 343, 347, 349, 351,\n",
      "       352, 353, 354, 356, 357, 359, 362, 363, 364, 365, 367, 369, 371,\n",
      "       372, 373, 375, 378, 379, 381, 384, 389, 390, 394, 400, 402, 403,\n",
      "       404, 405, 406, 410, 413, 414, 415, 416, 417, 418, 424, 426, 427,\n",
      "       428, 433, 434, 436, 439, 440, 442, 444, 449, 452, 453, 456, 458,\n",
      "       462, 463, 464, 466, 468, 469, 473, 475, 476, 477, 479, 481, 482,\n",
      "       484, 486, 487, 492, 493, 494, 496, 498, 499, 501, 504, 509, 510,\n",
      "       513, 514, 515, 516, 518, 519, 522, 524, 525, 528, 529, 530, 531]), 'c': array([[0.05813835, 0.05813835, 0.05813835, 0.0577812 , 0.05768722,\n",
      "        0.05440602, 0.05438722, 0.05438722, 0.05438722, 0.05438722]]), 'nf': 260}\n",
      "Accuracy: 95.0\n",
      "Feature Size: 260\n",
      "[  1   3   4   6  10  12  13  14  15  17  18  19  20  21  25  26  28  31\n",
      "  33  37  38  39  40  44  45  47  51  52  54  55  57  63  68  71  73  77\n",
      "  78  81  84  87  88  89  91  94  95  96 100 101 104 106 107 108 109 111\n",
      " 114 115 116 117 123 126 128 129 130 133 134 136 137 138 139 140 141 143\n",
      " 145 148 152 156 157 159 162 164 166 167 174 175 176 179 180 183 184 185\n",
      " 188 189 191 193 194 195 197 199 202 204 208 209 210 213 216 218 219 220\n",
      " 223 224 225 226 228 231 232 233 234 236 237 238 239 247 248 250 251 254\n",
      " 256 257 260 261 262 269 270 271 272 275 279 280 281 282 286 287 289 290\n",
      " 291 295 297 298 303 304 306 308 309 314 315 318 319 324 326 327 329 330\n",
      " 336 341 342 343 347 349 351 352 353 354 356 357 359 362 363 364 365 367\n",
      " 369 371 372 373 375 378 379 381 384 389 390 394 400 402 403 404 405 406\n",
      " 410 413 414 415 416 417 418 424 426 427 428 433 434 436 439 440 442 444\n",
      " 449 452 453 456 458 462 463 464 466 468 469 473 475 476 477 479 481 482\n",
      " 484 486 487 492 493 494 496 498 499 501 504 509 510 513 514 515 516 518\n",
      " 519 522 524 525 528 529 530 531]\n"
     ]
    },
    {
     "data": {
      "image/png": "[encoded data removed]",
      "text/plain": [
       "<Figure size 432x288 with 1 Axes>"
      ]
     },
     "metadata": {
      "needs_background": "light"
     },
     "output_type": "display_data"
    }
   ],
   "source": [
    "gasf=global_features\n",
    "\n",
    "label=global_labels\n",
    "\n",
    "# split data into train & validation (70 -- 30)\n",
    "xtrain, xtest, ytrain, ytest = train_test_split(gasf, label, test_size=0.3, random_state=0, stratify=label)\n",
    "fold = {'xt':xtrain, 'yt':ytrain, 'xv':xtest, 'yv':ytest}\n",
    "\n",
    "# # parameter\n",
    "# k    = 5     # k-value in KNN\n",
    "# N    = 10    # number of particles\n",
    "# T    = 100   # maximum number of iterations\n",
    "# w    = 0.9   # inertia weight\n",
    "# c1   = 2     # cognitive factor\n",
    "# c2   = 2     # social factor \n",
    "\n",
    "# parameter\n",
    "k    = 8     # k-value in KNN\n",
    "num_trees=100  #random forest\n",
    "seeds=9       #rf\n",
    "N    = 20    # number of particles\n",
    "T    = 10   # maximum number of iterations\n",
    "w    = 0.5   # inertia weight\n",
    "c1   = 2     # cognitive factor\n",
    "c2   = 2     # social factor \n",
    "opts = {'k':k, 'fold':fold, 'N':N, 'T':T, 'w':w, 'c1':c1, 'c2':c2, 'num_trees':num_trees, 'seeds':seeds}\n",
    "\n",
    "# perform feature selection\n",
    "fmdl = pso(gasf, label, opts)\n",
    "sf   = fmdl['sf']\n",
    "print(\"fmdl\",fmdl);\n",
    "\n",
    "# model with selected features\n",
    "num_train = np.size(xtrain, 0)\n",
    "num_valid = np.size(xtest, 0)\n",
    "x_train   = xtrain[:, sf]\n",
    "y_train   = ytrain.reshape(num_train) \n",
    "x_valid   = xtest[:, sf]\n",
    "y_valid   = ytest.reshape(num_valid)  \n",
    "\n",
    "#Modelling using KNN\n",
    "#mdl       = KNeighborsClassifier(n_neighbors = k) \n",
    "\n",
    "#Modelling using Random Forest\n",
    "mdl  = RandomForestClassifier(n_estimators=num_trees, random_state=seed)\n",
    "mdl.fit(x_train, y_train)\n",
    "\n",
    "# Accuracy\n",
    "y_pred    = mdl.predict(x_valid)\n",
    "Acc       = np.sum(y_valid == y_pred)  / num_valid\n",
    "print(\"Accuracy:\", 100 * Acc)\n",
    "\n",
    "# number of selected features\n",
    "num_feat = fmdl['nf']\n",
    "print(\"Feature Size:\", num_feat)\n",
    "n_sf=[]\n",
    "print(sf)\n",
    "\n",
    "# plot convergence\n",
    "curve   = fmdl['c']\n",
    "curve   = curve.reshape(np.size(curve,1))\n",
    "x       = np.arange(0, opts['T'], 1.0) + 1.0\n",
    "\n",
    "fig, ax = plt.subplots()\n",
    "ax.plot(x, curve, 'o-')\n",
    "ax.set_xlabel('Number of Iterations')\n",
    "ax.set_ylabel('Fitness')\n",
    "ax.set_title('PSO')\n",
    "ax.grid()\n",
    "plt.show()"
   ]
  },
  {
   "cell_type": "code",
   "execution_count": null,
   "metadata": {},
   "outputs": [],
   "source": []
  }
 ],
 "metadata": {
  "colab": {
   "collapsed_sections": [],
   "name": "Plant Disease Detection Using Machine Learning",
   "provenance": []
  },
  "kernelspec": {
   "display_name": "Python 3 (ipykernel)",
   "language": "python",
   "name": "python3"
  },
  "language_info": {
   "codemirror_mode": {
    "name": "ipython",
    "version": 3
   },
   "file_extension": ".py",
   "mimetype": "text/x-python",
   "name": "python",
   "nbconvert_exporter": "python",
   "pygments_lexer": "ipython3",
   "version": "3.8.2"
  }
 },
 "nbformat": 4,
 "nbformat_minor": 1
}
